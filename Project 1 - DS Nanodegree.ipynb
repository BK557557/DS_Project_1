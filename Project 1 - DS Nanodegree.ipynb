{
 "cells": [
  {
   "cell_type": "code",
   "execution_count": 288,
   "id": "25c7211b",
   "metadata": {},
   "outputs": [],
   "source": [
    "# Importing all essential libraries\n",
    "# Importing the 3 Seattle AirBnB Datasets\n",
    "\n",
    "import numpy as np\n",
    "import pandas as pd\n",
    "import seaborn as sns\n",
    "import matplotlib.pyplot as plt\n",
    "%matplotlib inline\n",
    "\n",
    "pd.set_option('display.max_columns', None) # Allows us to see all columns on df during EDA\n",
    "df_calendar= pd.read_csv('/Users/basharkhaddage/Desktop/Udacity - Data Science Nanodegree/Project 1/calendar.csv')\n",
    "df_listings= pd.read_csv('/Users/basharkhaddage/Desktop/Udacity - Data Science Nanodegree/Project 1/listings.csv')\n",
    "df_reviews= pd.read_csv('/Users/basharkhaddage/Desktop/Udacity - Data Science Nanodegree/Project 1/reviews.csv')"
   ]
  },
  {
   "cell_type": "code",
   "execution_count": 34,
   "id": "7705ffdf",
   "metadata": {},
   "outputs": [
    {
     "name": "stdout",
     "output_type": "stream",
     "text": [
      "(1393570, 4)\n",
      "(3818, 92)\n",
      "(84849, 6)\n"
     ]
    }
   ],
   "source": [
    "# Checking the shape of our datasets\n",
    "print(df_calendar.shape)\n",
    "print(df_listings.shape)\n",
    "print(df_reviews.shape)"
   ]
  },
  {
   "cell_type": "code",
   "execution_count": 35,
   "id": "bb524bd0",
   "metadata": {},
   "outputs": [
    {
     "data": {
      "text/html": [
       "<div>\n",
       "<style scoped>\n",
       "    .dataframe tbody tr th:only-of-type {\n",
       "        vertical-align: middle;\n",
       "    }\n",
       "\n",
       "    .dataframe tbody tr th {\n",
       "        vertical-align: top;\n",
       "    }\n",
       "\n",
       "    .dataframe thead th {\n",
       "        text-align: right;\n",
       "    }\n",
       "</style>\n",
       "<table border=\"1\" class=\"dataframe\">\n",
       "  <thead>\n",
       "    <tr style=\"text-align: right;\">\n",
       "      <th></th>\n",
       "      <th>listing_id</th>\n",
       "      <th>date</th>\n",
       "      <th>available</th>\n",
       "      <th>price</th>\n",
       "    </tr>\n",
       "  </thead>\n",
       "  <tbody>\n",
       "    <tr>\n",
       "      <th>0</th>\n",
       "      <td>241032</td>\n",
       "      <td>2016-01-04</td>\n",
       "      <td>t</td>\n",
       "      <td>$85.00</td>\n",
       "    </tr>\n",
       "    <tr>\n",
       "      <th>1</th>\n",
       "      <td>241032</td>\n",
       "      <td>2016-01-05</td>\n",
       "      <td>t</td>\n",
       "      <td>$85.00</td>\n",
       "    </tr>\n",
       "    <tr>\n",
       "      <th>2</th>\n",
       "      <td>241032</td>\n",
       "      <td>2016-01-06</td>\n",
       "      <td>f</td>\n",
       "      <td>NaN</td>\n",
       "    </tr>\n",
       "    <tr>\n",
       "      <th>3</th>\n",
       "      <td>241032</td>\n",
       "      <td>2016-01-07</td>\n",
       "      <td>f</td>\n",
       "      <td>NaN</td>\n",
       "    </tr>\n",
       "    <tr>\n",
       "      <th>4</th>\n",
       "      <td>241032</td>\n",
       "      <td>2016-01-08</td>\n",
       "      <td>f</td>\n",
       "      <td>NaN</td>\n",
       "    </tr>\n",
       "  </tbody>\n",
       "</table>\n",
       "</div>"
      ],
      "text/plain": [
       "   listing_id        date available   price\n",
       "0      241032  2016-01-04         t  $85.00\n",
       "1      241032  2016-01-05         t  $85.00\n",
       "2      241032  2016-01-06         f     NaN\n",
       "3      241032  2016-01-07         f     NaN\n",
       "4      241032  2016-01-08         f     NaN"
      ]
     },
     "execution_count": 35,
     "metadata": {},
     "output_type": "execute_result"
    }
   ],
   "source": [
    "# Let's explore the caledar dataset\n",
    "df_calendar.head()"
   ]
  },
  {
   "cell_type": "markdown",
   "id": "d539dbb4",
   "metadata": {},
   "source": [
    "## How do prices vary across the year ?\n",
    "\n",
    "Lets explore pricing and try to find some answers to questions like:\n",
    "1) How do prices trend over the year?\n",
    "2) Are some months particularly more expensive?"
   ]
  },
  {
   "cell_type": "code",
   "execution_count": 801,
   "id": "0274094d",
   "metadata": {},
   "outputs": [
    {
     "name": "stdout",
     "output_type": "stream",
     "text": [
      "<class 'pandas.core.frame.DataFrame'>\n",
      "RangeIndex: 1393570 entries, 0 to 1393569\n",
      "Data columns (total 4 columns):\n",
      " #   Column      Non-Null Count    Dtype \n",
      "---  ------      --------------    ----- \n",
      " 0   listing_id  1393570 non-null  int64 \n",
      " 1   date        1393570 non-null  object\n",
      " 2   available   1393570 non-null  object\n",
      " 3   price       934542 non-null   object\n",
      "dtypes: int64(1), object(3)\n",
      "memory usage: 42.5+ MB\n"
     ]
    }
   ],
   "source": [
    "df_calendar.info()"
   ]
  },
  {
   "cell_type": "code",
   "execution_count": 37,
   "id": "d9812164",
   "metadata": {},
   "outputs": [],
   "source": [
    "# Whilst we have a large proportion of null values, our df is still large enough to derive meaningful insights\n",
    "# we will drop the null values in 'price'\n",
    "df_calendar_dropped = df_calendar.dropna(how = 'any')"
   ]
  },
  {
   "cell_type": "code",
   "execution_count": 38,
   "id": "77e5cb4d",
   "metadata": {},
   "outputs": [
    {
     "data": {
      "text/html": [
       "<div>\n",
       "<style scoped>\n",
       "    .dataframe tbody tr th:only-of-type {\n",
       "        vertical-align: middle;\n",
       "    }\n",
       "\n",
       "    .dataframe tbody tr th {\n",
       "        vertical-align: top;\n",
       "    }\n",
       "\n",
       "    .dataframe thead th {\n",
       "        text-align: right;\n",
       "    }\n",
       "</style>\n",
       "<table border=\"1\" class=\"dataframe\">\n",
       "  <thead>\n",
       "    <tr style=\"text-align: right;\">\n",
       "      <th></th>\n",
       "      <th>listing_id</th>\n",
       "      <th>date</th>\n",
       "      <th>available</th>\n",
       "      <th>price</th>\n",
       "    </tr>\n",
       "  </thead>\n",
       "  <tbody>\n",
       "    <tr>\n",
       "      <th>0</th>\n",
       "      <td>241032</td>\n",
       "      <td>2016-01-04</td>\n",
       "      <td>t</td>\n",
       "      <td>$85.00</td>\n",
       "    </tr>\n",
       "    <tr>\n",
       "      <th>1</th>\n",
       "      <td>241032</td>\n",
       "      <td>2016-01-05</td>\n",
       "      <td>t</td>\n",
       "      <td>$85.00</td>\n",
       "    </tr>\n",
       "    <tr>\n",
       "      <th>9</th>\n",
       "      <td>241032</td>\n",
       "      <td>2016-01-13</td>\n",
       "      <td>t</td>\n",
       "      <td>$85.00</td>\n",
       "    </tr>\n",
       "    <tr>\n",
       "      <th>10</th>\n",
       "      <td>241032</td>\n",
       "      <td>2016-01-14</td>\n",
       "      <td>t</td>\n",
       "      <td>$85.00</td>\n",
       "    </tr>\n",
       "    <tr>\n",
       "      <th>14</th>\n",
       "      <td>241032</td>\n",
       "      <td>2016-01-18</td>\n",
       "      <td>t</td>\n",
       "      <td>$85.00</td>\n",
       "    </tr>\n",
       "  </tbody>\n",
       "</table>\n",
       "</div>"
      ],
      "text/plain": [
       "    listing_id        date available   price\n",
       "0       241032  2016-01-04         t  $85.00\n",
       "1       241032  2016-01-05         t  $85.00\n",
       "9       241032  2016-01-13         t  $85.00\n",
       "10      241032  2016-01-14         t  $85.00\n",
       "14      241032  2016-01-18         t  $85.00"
      ]
     },
     "execution_count": 38,
     "metadata": {},
     "output_type": "execute_result"
    }
   ],
   "source": [
    "df_calendar_dropped.head()"
   ]
  },
  {
   "cell_type": "code",
   "execution_count": 39,
   "id": "94841cb2",
   "metadata": {},
   "outputs": [],
   "source": [
    "# Creating a copy\n",
    "df_calendar_dropped_copy = df_calendar_dropped.copy()"
   ]
  },
  {
   "cell_type": "code",
   "execution_count": 40,
   "id": "ad90d67d",
   "metadata": {},
   "outputs": [],
   "source": [
    "# Let's create 2 additional columns: 'year' and 'month'\n",
    "df_calendar_dropped_copy['year'] = df_calendar_dropped_copy['date'].apply(lambda x : x[0:4])\n",
    "df_calendar_dropped_copy['month'] = df_calendar_dropped_copy['date'].apply(lambda x : x[5:7])\n",
    "\n",
    "# Here we'll slice the '$' sign off\n",
    "df_calendar_dropped_copy['price'] = df_calendar_dropped_copy['price'].apply(lambda x : x[1:])"
   ]
  },
  {
   "cell_type": "code",
   "execution_count": 41,
   "id": "4927bc1c",
   "metadata": {},
   "outputs": [
    {
     "name": "stdout",
     "output_type": "stream",
     "text": [
      "<class 'pandas.core.frame.DataFrame'>\n",
      "Int64Index: 934542 entries, 0 to 1393213\n",
      "Data columns (total 6 columns):\n",
      " #   Column      Non-Null Count   Dtype \n",
      "---  ------      --------------   ----- \n",
      " 0   listing_id  934542 non-null  int64 \n",
      " 1   date        934542 non-null  object\n",
      " 2   available   934542 non-null  object\n",
      " 3   price       934542 non-null  object\n",
      " 4   year        934542 non-null  object\n",
      " 5   month       934542 non-null  object\n",
      "dtypes: int64(1), object(5)\n",
      "memory usage: 49.9+ MB\n"
     ]
    }
   ],
   "source": [
    "df_calendar_dropped_copy.info()"
   ]
  },
  {
   "cell_type": "code",
   "execution_count": 42,
   "id": "1ea84232",
   "metadata": {},
   "outputs": [
    {
     "data": {
      "text/html": [
       "<div>\n",
       "<style scoped>\n",
       "    .dataframe tbody tr th:only-of-type {\n",
       "        vertical-align: middle;\n",
       "    }\n",
       "\n",
       "    .dataframe tbody tr th {\n",
       "        vertical-align: top;\n",
       "    }\n",
       "\n",
       "    .dataframe thead th {\n",
       "        text-align: right;\n",
       "    }\n",
       "</style>\n",
       "<table border=\"1\" class=\"dataframe\">\n",
       "  <thead>\n",
       "    <tr style=\"text-align: right;\">\n",
       "      <th></th>\n",
       "      <th>listing_id</th>\n",
       "      <th>date</th>\n",
       "      <th>year</th>\n",
       "      <th>month</th>\n",
       "      <th>available</th>\n",
       "      <th>price</th>\n",
       "    </tr>\n",
       "  </thead>\n",
       "  <tbody>\n",
       "    <tr>\n",
       "      <th>0</th>\n",
       "      <td>241032</td>\n",
       "      <td>2016-01-04</td>\n",
       "      <td>2016</td>\n",
       "      <td>01</td>\n",
       "      <td>t</td>\n",
       "      <td>85.00</td>\n",
       "    </tr>\n",
       "    <tr>\n",
       "      <th>1</th>\n",
       "      <td>241032</td>\n",
       "      <td>2016-01-05</td>\n",
       "      <td>2016</td>\n",
       "      <td>01</td>\n",
       "      <td>t</td>\n",
       "      <td>85.00</td>\n",
       "    </tr>\n",
       "    <tr>\n",
       "      <th>9</th>\n",
       "      <td>241032</td>\n",
       "      <td>2016-01-13</td>\n",
       "      <td>2016</td>\n",
       "      <td>01</td>\n",
       "      <td>t</td>\n",
       "      <td>85.00</td>\n",
       "    </tr>\n",
       "    <tr>\n",
       "      <th>10</th>\n",
       "      <td>241032</td>\n",
       "      <td>2016-01-14</td>\n",
       "      <td>2016</td>\n",
       "      <td>01</td>\n",
       "      <td>t</td>\n",
       "      <td>85.00</td>\n",
       "    </tr>\n",
       "    <tr>\n",
       "      <th>14</th>\n",
       "      <td>241032</td>\n",
       "      <td>2016-01-18</td>\n",
       "      <td>2016</td>\n",
       "      <td>01</td>\n",
       "      <td>t</td>\n",
       "      <td>85.00</td>\n",
       "    </tr>\n",
       "  </tbody>\n",
       "</table>\n",
       "</div>"
      ],
      "text/plain": [
       "    listing_id        date  year month available  price\n",
       "0       241032  2016-01-04  2016    01         t  85.00\n",
       "1       241032  2016-01-05  2016    01         t  85.00\n",
       "9       241032  2016-01-13  2016    01         t  85.00\n",
       "10      241032  2016-01-14  2016    01         t  85.00\n",
       "14      241032  2016-01-18  2016    01         t  85.00"
      ]
     },
     "execution_count": 42,
     "metadata": {},
     "output_type": "execute_result"
    }
   ],
   "source": [
    "# Arranging the df in a clearer manner\n",
    "\n",
    "df_calendar_dropped_copy = df_calendar_dropped_copy[['listing_id',\"date\",'year','month','available','price']]\n",
    "df_calendar_dropped_copy.head()"
   ]
  },
  {
   "cell_type": "code",
   "execution_count": 43,
   "id": "5e0def19",
   "metadata": {},
   "outputs": [],
   "source": [
    "# Some more columns data type transformations\n",
    "\n",
    "df_calendar_dropped_copy['price'] = df_calendar_dropped_copy['price'] \\\n",
    ".replace('[\\$,]', '', regex=True).astype(float)\n",
    "df_calendar_dropped_copy['month'] = df_calendar_dropped_copy['month'].astype(int)\n",
    "df_calendar_dropped_copy['year'] = df_calendar_dropped_copy['year'].astype(int)"
   ]
  },
  {
   "cell_type": "code",
   "execution_count": 44,
   "id": "615da39f",
   "metadata": {},
   "outputs": [
    {
     "data": {
      "text/html": [
       "<div>\n",
       "<style scoped>\n",
       "    .dataframe tbody tr th:only-of-type {\n",
       "        vertical-align: middle;\n",
       "    }\n",
       "\n",
       "    .dataframe tbody tr th {\n",
       "        vertical-align: top;\n",
       "    }\n",
       "\n",
       "    .dataframe thead th {\n",
       "        text-align: right;\n",
       "    }\n",
       "</style>\n",
       "<table border=\"1\" class=\"dataframe\">\n",
       "  <thead>\n",
       "    <tr style=\"text-align: right;\">\n",
       "      <th></th>\n",
       "      <th>listing_id</th>\n",
       "      <th>date</th>\n",
       "      <th>year</th>\n",
       "      <th>month</th>\n",
       "      <th>available</th>\n",
       "      <th>price</th>\n",
       "    </tr>\n",
       "  </thead>\n",
       "  <tbody>\n",
       "    <tr>\n",
       "      <th>0</th>\n",
       "      <td>241032</td>\n",
       "      <td>2016-01-04</td>\n",
       "      <td>2016</td>\n",
       "      <td>1</td>\n",
       "      <td>t</td>\n",
       "      <td>85.0</td>\n",
       "    </tr>\n",
       "    <tr>\n",
       "      <th>1</th>\n",
       "      <td>241032</td>\n",
       "      <td>2016-01-05</td>\n",
       "      <td>2016</td>\n",
       "      <td>1</td>\n",
       "      <td>t</td>\n",
       "      <td>85.0</td>\n",
       "    </tr>\n",
       "    <tr>\n",
       "      <th>9</th>\n",
       "      <td>241032</td>\n",
       "      <td>2016-01-13</td>\n",
       "      <td>2016</td>\n",
       "      <td>1</td>\n",
       "      <td>t</td>\n",
       "      <td>85.0</td>\n",
       "    </tr>\n",
       "    <tr>\n",
       "      <th>10</th>\n",
       "      <td>241032</td>\n",
       "      <td>2016-01-14</td>\n",
       "      <td>2016</td>\n",
       "      <td>1</td>\n",
       "      <td>t</td>\n",
       "      <td>85.0</td>\n",
       "    </tr>\n",
       "    <tr>\n",
       "      <th>14</th>\n",
       "      <td>241032</td>\n",
       "      <td>2016-01-18</td>\n",
       "      <td>2016</td>\n",
       "      <td>1</td>\n",
       "      <td>t</td>\n",
       "      <td>85.0</td>\n",
       "    </tr>\n",
       "  </tbody>\n",
       "</table>\n",
       "</div>"
      ],
      "text/plain": [
       "    listing_id        date  year  month available  price\n",
       "0       241032  2016-01-04  2016      1         t   85.0\n",
       "1       241032  2016-01-05  2016      1         t   85.0\n",
       "9       241032  2016-01-13  2016      1         t   85.0\n",
       "10      241032  2016-01-14  2016      1         t   85.0\n",
       "14      241032  2016-01-18  2016      1         t   85.0"
      ]
     },
     "execution_count": 44,
     "metadata": {},
     "output_type": "execute_result"
    }
   ],
   "source": [
    "df_calendar_dropped_copy.head()"
   ]
  },
  {
   "cell_type": "code",
   "execution_count": 45,
   "id": "cc6f0ee6",
   "metadata": {},
   "outputs": [
    {
     "name": "stdout",
     "output_type": "stream",
     "text": [
      "<class 'pandas.core.frame.DataFrame'>\n",
      "Int64Index: 934542 entries, 0 to 1393213\n",
      "Data columns (total 6 columns):\n",
      " #   Column      Non-Null Count   Dtype  \n",
      "---  ------      --------------   -----  \n",
      " 0   listing_id  934542 non-null  int64  \n",
      " 1   date        934542 non-null  object \n",
      " 2   year        934542 non-null  int64  \n",
      " 3   month       934542 non-null  int64  \n",
      " 4   available   934542 non-null  object \n",
      " 5   price       934542 non-null  float64\n",
      "dtypes: float64(1), int64(3), object(2)\n",
      "memory usage: 49.9+ MB\n"
     ]
    }
   ],
   "source": [
    "df_calendar_dropped_copy.info()"
   ]
  },
  {
   "cell_type": "code",
   "execution_count": 46,
   "id": "123e4afc",
   "metadata": {},
   "outputs": [
    {
     "data": {
      "text/html": [
       "<div>\n",
       "<style scoped>\n",
       "    .dataframe tbody tr th:only-of-type {\n",
       "        vertical-align: middle;\n",
       "    }\n",
       "\n",
       "    .dataframe tbody tr th {\n",
       "        vertical-align: top;\n",
       "    }\n",
       "\n",
       "    .dataframe thead th {\n",
       "        text-align: right;\n",
       "    }\n",
       "</style>\n",
       "<table border=\"1\" class=\"dataframe\">\n",
       "  <thead>\n",
       "    <tr style=\"text-align: right;\">\n",
       "      <th></th>\n",
       "      <th></th>\n",
       "      <th>mean</th>\n",
       "      <th>count</th>\n",
       "    </tr>\n",
       "    <tr>\n",
       "      <th>year</th>\n",
       "      <th>month</th>\n",
       "      <th></th>\n",
       "      <th></th>\n",
       "    </tr>\n",
       "  </thead>\n",
       "  <tbody>\n",
       "    <tr>\n",
       "      <th rowspan=\"12\" valign=\"top\">2016</th>\n",
       "      <th>1</th>\n",
       "      <td>121.568409</td>\n",
       "      <td>59239</td>\n",
       "    </tr>\n",
       "    <tr>\n",
       "      <th>2</th>\n",
       "      <td>124.293927</td>\n",
       "      <td>73321</td>\n",
       "    </tr>\n",
       "    <tr>\n",
       "      <th>3</th>\n",
       "      <td>128.644488</td>\n",
       "      <td>83938</td>\n",
       "    </tr>\n",
       "    <tr>\n",
       "      <th>4</th>\n",
       "      <td>135.097005</td>\n",
       "      <td>76037</td>\n",
       "    </tr>\n",
       "    <tr>\n",
       "      <th>5</th>\n",
       "      <td>139.538183</td>\n",
       "      <td>79971</td>\n",
       "    </tr>\n",
       "    <tr>\n",
       "      <th>6</th>\n",
       "      <td>147.473137</td>\n",
       "      <td>77244</td>\n",
       "    </tr>\n",
       "    <tr>\n",
       "      <th>7</th>\n",
       "      <td>152.094150</td>\n",
       "      <td>74222</td>\n",
       "    </tr>\n",
       "    <tr>\n",
       "      <th>8</th>\n",
       "      <td>150.656594</td>\n",
       "      <td>76347</td>\n",
       "    </tr>\n",
       "    <tr>\n",
       "      <th>9</th>\n",
       "      <td>143.255949</td>\n",
       "      <td>77246</td>\n",
       "    </tr>\n",
       "    <tr>\n",
       "      <th>10</th>\n",
       "      <td>137.031939</td>\n",
       "      <td>82438</td>\n",
       "    </tr>\n",
       "    <tr>\n",
       "      <th>11</th>\n",
       "      <td>135.688738</td>\n",
       "      <td>81780</td>\n",
       "    </tr>\n",
       "    <tr>\n",
       "      <th>12</th>\n",
       "      <td>137.251835</td>\n",
       "      <td>87061</td>\n",
       "    </tr>\n",
       "    <tr>\n",
       "      <th>2017</th>\n",
       "      <th>1</th>\n",
       "      <td>136.882590</td>\n",
       "      <td>5698</td>\n",
       "    </tr>\n",
       "  </tbody>\n",
       "</table>\n",
       "</div>"
      ],
      "text/plain": [
       "                  mean  count\n",
       "year month                   \n",
       "2016 1      121.568409  59239\n",
       "     2      124.293927  73321\n",
       "     3      128.644488  83938\n",
       "     4      135.097005  76037\n",
       "     5      139.538183  79971\n",
       "     6      147.473137  77244\n",
       "     7      152.094150  74222\n",
       "     8      150.656594  76347\n",
       "     9      143.255949  77246\n",
       "     10     137.031939  82438\n",
       "     11     135.688738  81780\n",
       "     12     137.251835  87061\n",
       "2017 1      136.882590   5698"
      ]
     },
     "execution_count": 46,
     "metadata": {},
     "output_type": "execute_result"
    }
   ],
   "source": [
    "df_calendar_dropped_copy.groupby(['year','month'])['price'].agg(['mean','count'])"
   ]
  },
  {
   "cell_type": "code",
   "execution_count": 50,
   "id": "75dd1b4a",
   "metadata": {},
   "outputs": [
    {
     "data": {
      "text/html": [
       "<div>\n",
       "<style scoped>\n",
       "    .dataframe tbody tr th:only-of-type {\n",
       "        vertical-align: middle;\n",
       "    }\n",
       "\n",
       "    .dataframe tbody tr th {\n",
       "        vertical-align: top;\n",
       "    }\n",
       "\n",
       "    .dataframe thead th {\n",
       "        text-align: right;\n",
       "    }\n",
       "</style>\n",
       "<table border=\"1\" class=\"dataframe\">\n",
       "  <thead>\n",
       "    <tr style=\"text-align: right;\">\n",
       "      <th></th>\n",
       "      <th>year</th>\n",
       "      <th>month</th>\n",
       "      <th>mean</th>\n",
       "      <th>count</th>\n",
       "    </tr>\n",
       "  </thead>\n",
       "  <tbody>\n",
       "    <tr>\n",
       "      <th>0</th>\n",
       "      <td>2016</td>\n",
       "      <td>1</td>\n",
       "      <td>121.568409</td>\n",
       "      <td>59239</td>\n",
       "    </tr>\n",
       "    <tr>\n",
       "      <th>1</th>\n",
       "      <td>2016</td>\n",
       "      <td>2</td>\n",
       "      <td>124.293927</td>\n",
       "      <td>73321</td>\n",
       "    </tr>\n",
       "    <tr>\n",
       "      <th>2</th>\n",
       "      <td>2016</td>\n",
       "      <td>3</td>\n",
       "      <td>128.644488</td>\n",
       "      <td>83938</td>\n",
       "    </tr>\n",
       "    <tr>\n",
       "      <th>3</th>\n",
       "      <td>2016</td>\n",
       "      <td>4</td>\n",
       "      <td>135.097005</td>\n",
       "      <td>76037</td>\n",
       "    </tr>\n",
       "    <tr>\n",
       "      <th>4</th>\n",
       "      <td>2016</td>\n",
       "      <td>5</td>\n",
       "      <td>139.538183</td>\n",
       "      <td>79971</td>\n",
       "    </tr>\n",
       "    <tr>\n",
       "      <th>5</th>\n",
       "      <td>2016</td>\n",
       "      <td>6</td>\n",
       "      <td>147.473137</td>\n",
       "      <td>77244</td>\n",
       "    </tr>\n",
       "    <tr>\n",
       "      <th>6</th>\n",
       "      <td>2016</td>\n",
       "      <td>7</td>\n",
       "      <td>152.094150</td>\n",
       "      <td>74222</td>\n",
       "    </tr>\n",
       "    <tr>\n",
       "      <th>7</th>\n",
       "      <td>2016</td>\n",
       "      <td>8</td>\n",
       "      <td>150.656594</td>\n",
       "      <td>76347</td>\n",
       "    </tr>\n",
       "    <tr>\n",
       "      <th>8</th>\n",
       "      <td>2016</td>\n",
       "      <td>9</td>\n",
       "      <td>143.255949</td>\n",
       "      <td>77246</td>\n",
       "    </tr>\n",
       "    <tr>\n",
       "      <th>9</th>\n",
       "      <td>2016</td>\n",
       "      <td>10</td>\n",
       "      <td>137.031939</td>\n",
       "      <td>82438</td>\n",
       "    </tr>\n",
       "    <tr>\n",
       "      <th>10</th>\n",
       "      <td>2016</td>\n",
       "      <td>11</td>\n",
       "      <td>135.688738</td>\n",
       "      <td>81780</td>\n",
       "    </tr>\n",
       "    <tr>\n",
       "      <th>11</th>\n",
       "      <td>2016</td>\n",
       "      <td>12</td>\n",
       "      <td>137.251835</td>\n",
       "      <td>87061</td>\n",
       "    </tr>\n",
       "  </tbody>\n",
       "</table>\n",
       "</div>"
      ],
      "text/plain": [
       "    year  month        mean  count\n",
       "0   2016      1  121.568409  59239\n",
       "1   2016      2  124.293927  73321\n",
       "2   2016      3  128.644488  83938\n",
       "3   2016      4  135.097005  76037\n",
       "4   2016      5  139.538183  79971\n",
       "5   2016      6  147.473137  77244\n",
       "6   2016      7  152.094150  74222\n",
       "7   2016      8  150.656594  76347\n",
       "8   2016      9  143.255949  77246\n",
       "9   2016     10  137.031939  82438\n",
       "10  2016     11  135.688738  81780\n",
       "11  2016     12  137.251835  87061"
      ]
     },
     "execution_count": 50,
     "metadata": {},
     "output_type": "execute_result"
    }
   ],
   "source": [
    "# We'll drop 2017 data as it seems the count is a fraction compared to others & this could have skewed the data\n",
    "\n",
    "grouped_data_calender = df_calendar_dropped_copy.groupby(['year','month'])['price'].agg(['mean','count']) \\\n",
    ".reset_index().drop(index = 12, axis = 0)\n",
    "grouped_data_calender"
   ]
  },
  {
   "cell_type": "code",
   "execution_count": 238,
   "id": "d1871712",
   "metadata": {},
   "outputs": [
    {
     "name": "stdout",
     "output_type": "stream",
     "text": [
      "150.07462709628\n",
      "137.71619613287837\n"
     ]
    }
   ],
   "source": [
    "# Circuling back to my initial question: 'What is the seasonal variation in pricing?'\n",
    "# We can clearly see here that June / July / August are more expensive, on average, vs. the other months.\n",
    "\n",
    "yearly_average = grouped_data_calender['mean'].mean()\n",
    "summer = grouped_data_calender.query('month == [6,7,8]')['mean'].mean() # June / July / August average price\n",
    "rest_of_year = grouped_data_calender.query('month == [1,2,3,4,5,9,10,11,12]')['mean'].mean() # Rest of year average price\n",
    "\n",
    "print(summer)\n",
    "print(yearly_average)"
   ]
  },
  {
   "cell_type": "code",
   "execution_count": 244,
   "id": "75f68717",
   "metadata": {},
   "outputs": [
    {
     "data": {
      "image/png": "[encoded data removed]",
      "text/plain": [
       "<Figure size 900x500 with 1 Axes>"
      ]
     },
     "metadata": {},
     "output_type": "display_data"
    }
   ],
   "source": [
    "# Lets try to visualise all our findings in one clean graph that captures our findings !\n",
    "\n",
    "plt.figure(figsize = (9, 5))\n",
    "ax = sns.barplot(data = grouped_data_calender, x = 'month', y = 'mean', color = 'orange')\n",
    "\n",
    "# Set the y-axis limits (minimum and maximum values) for better visualization\n",
    "plt.ylim(80, 160)\n",
    "\n",
    "plt.ylabel('Average Listing Price')\n",
    "plt.xlabel('Month of the Year')\n",
    "plt.title('Daily Average Price by Month', fontweight = 'heavy', y=1.03)\n",
    "\n",
    "# Annotate the bars with their corresponding integer values\n",
    "# highlight the top 3 months\n",
    "\n",
    "data_sorted = grouped_data_calender.sort_values(by = 'mean', ascending = False)\n",
    "for index, row in data_sorted.iterrows():\n",
    "    font_weight = 'bold' if row.name in [5, 6, 7] else 'normal'  # Set 'bold' for top 3 bars, 'normal' for others\n",
    "    text_color = 'blue' if row.name in [5, 6, 7] else 'black'  # Set 'blue' for top 3 bars, 'black' for others\n",
    "    font_size = 12 if row.name in [5,6,7] else 10 # Set fontsize 12 for top 3 bars, 10 for others\n",
    "    ax.text(index, row['mean'], int(row['mean']), ha = 'center', va = 'bottom', fontsize = font_size,\n",
    "            fontweight = font_weight, color = text_color)\n",
    "    \n",
    "# Adding the yearly average price line\n",
    "plt.axhline(y = yearly_average, color = 'red', linestyle = '--', label = 'Year Avg. Daily Price: $138')\n",
    "plt.legend()\n",
    "plt.show()"
   ]
  },
  {
   "cell_type": "markdown",
   "id": "f679686e",
   "metadata": {},
   "source": [
    "Looking at the above chart, and based on this dataset, June / July / August are the top 3 most expensive months to book, which probably makes sense given it's the summer season.\n",
    "\n",
    "Perhaps more interestingly, the start of the year rates are at their lowest, and slowly but surely keep rising and begin to taper off by end of summer."
   ]
  },
  {
   "cell_type": "markdown",
   "id": "dcbcbacc",
   "metadata": {},
   "source": [
    "\n",
    "## What attributes are associated with Superhosts?\n",
    "\n",
    "Lets explore Superhosts and try to find some answers to questions like:\n",
    "1) How prevalent are superhosts?\n",
    "2) Are superhosts more highly rated?\n",
    "3) More interestingly perhaps, Do the top neighbourhoods show any particular trend in concentration of superhosts?"
   ]
  },
  {
   "cell_type": "code",
   "execution_count": 572,
   "id": "1e483b97",
   "metadata": {},
   "outputs": [
    {
     "data": {
      "text/html": [
       "<div>\n",
       "<style scoped>\n",
       "    .dataframe tbody tr th:only-of-type {\n",
       "        vertical-align: middle;\n",
       "    }\n",
       "\n",
       "    .dataframe tbody tr th {\n",
       "        vertical-align: top;\n",
       "    }\n",
       "\n",
       "    .dataframe thead th {\n",
       "        text-align: right;\n",
       "    }\n",
       "</style>\n",
       "<table border=\"1\" class=\"dataframe\">\n",
       "  <thead>\n",
       "    <tr style=\"text-align: right;\">\n",
       "      <th></th>\n",
       "      <th>id</th>\n",
       "      <th>listing_url</th>\n",
       "      <th>scrape_id</th>\n",
       "      <th>last_scraped</th>\n",
       "      <th>name</th>\n",
       "      <th>summary</th>\n",
       "      <th>space</th>\n",
       "      <th>description</th>\n",
       "      <th>experiences_offered</th>\n",
       "      <th>neighborhood_overview</th>\n",
       "      <th>notes</th>\n",
       "      <th>transit</th>\n",
       "      <th>thumbnail_url</th>\n",
       "      <th>medium_url</th>\n",
       "      <th>picture_url</th>\n",
       "      <th>xl_picture_url</th>\n",
       "      <th>host_id</th>\n",
       "      <th>host_url</th>\n",
       "      <th>host_name</th>\n",
       "      <th>host_since</th>\n",
       "      <th>host_location</th>\n",
       "      <th>host_about</th>\n",
       "      <th>host_response_time</th>\n",
       "      <th>host_response_rate</th>\n",
       "      <th>host_acceptance_rate</th>\n",
       "      <th>host_is_superhost</th>\n",
       "      <th>host_thumbnail_url</th>\n",
       "      <th>host_picture_url</th>\n",
       "      <th>host_neighbourhood</th>\n",
       "      <th>host_listings_count</th>\n",
       "      <th>host_total_listings_count</th>\n",
       "      <th>host_verifications</th>\n",
       "      <th>host_has_profile_pic</th>\n",
       "      <th>host_identity_verified</th>\n",
       "      <th>street</th>\n",
       "      <th>neighbourhood</th>\n",
       "      <th>neighbourhood_cleansed</th>\n",
       "      <th>neighbourhood_group_cleansed</th>\n",
       "      <th>city</th>\n",
       "      <th>state</th>\n",
       "      <th>zipcode</th>\n",
       "      <th>market</th>\n",
       "      <th>smart_location</th>\n",
       "      <th>country_code</th>\n",
       "      <th>country</th>\n",
       "      <th>latitude</th>\n",
       "      <th>longitude</th>\n",
       "      <th>is_location_exact</th>\n",
       "      <th>property_type</th>\n",
       "      <th>room_type</th>\n",
       "      <th>accommodates</th>\n",
       "      <th>bathrooms</th>\n",
       "      <th>bedrooms</th>\n",
       "      <th>beds</th>\n",
       "      <th>bed_type</th>\n",
       "      <th>amenities</th>\n",
       "      <th>square_feet</th>\n",
       "      <th>price</th>\n",
       "      <th>weekly_price</th>\n",
       "      <th>monthly_price</th>\n",
       "      <th>security_deposit</th>\n",
       "      <th>cleaning_fee</th>\n",
       "      <th>guests_included</th>\n",
       "      <th>extra_people</th>\n",
       "      <th>minimum_nights</th>\n",
       "      <th>maximum_nights</th>\n",
       "      <th>calendar_updated</th>\n",
       "      <th>has_availability</th>\n",
       "      <th>availability_30</th>\n",
       "      <th>availability_60</th>\n",
       "      <th>availability_90</th>\n",
       "      <th>availability_365</th>\n",
       "      <th>calendar_last_scraped</th>\n",
       "      <th>number_of_reviews</th>\n",
       "      <th>first_review</th>\n",
       "      <th>last_review</th>\n",
       "      <th>review_scores_rating</th>\n",
       "      <th>review_scores_accuracy</th>\n",
       "      <th>review_scores_cleanliness</th>\n",
       "      <th>review_scores_checkin</th>\n",
       "      <th>review_scores_communication</th>\n",
       "      <th>review_scores_location</th>\n",
       "      <th>review_scores_value</th>\n",
       "      <th>requires_license</th>\n",
       "      <th>license</th>\n",
       "      <th>jurisdiction_names</th>\n",
       "      <th>instant_bookable</th>\n",
       "      <th>cancellation_policy</th>\n",
       "      <th>require_guest_profile_picture</th>\n",
       "      <th>require_guest_phone_verification</th>\n",
       "      <th>calculated_host_listings_count</th>\n",
       "      <th>reviews_per_month</th>\n",
       "    </tr>\n",
       "  </thead>\n",
       "  <tbody>\n",
       "    <tr>\n",
       "      <th>0</th>\n",
       "      <td>241032</td>\n",
       "      <td>https://www.airbnb.com/rooms/241032</td>\n",
       "      <td>20160104002432</td>\n",
       "      <td>2016-01-04</td>\n",
       "      <td>Stylish Queen Anne Apartment</td>\n",
       "      <td>NaN</td>\n",
       "      <td>Make your self at home in this charming one-be...</td>\n",
       "      <td>Make your self at home in this charming one-be...</td>\n",
       "      <td>none</td>\n",
       "      <td>NaN</td>\n",
       "      <td>NaN</td>\n",
       "      <td>NaN</td>\n",
       "      <td>NaN</td>\n",
       "      <td>NaN</td>\n",
       "      <td>https://a1.muscache.com/ac/pictures/67560560/c...</td>\n",
       "      <td>NaN</td>\n",
       "      <td>956883</td>\n",
       "      <td>https://www.airbnb.com/users/show/956883</td>\n",
       "      <td>Maija</td>\n",
       "      <td>2011-08-11</td>\n",
       "      <td>Seattle, Washington, United States</td>\n",
       "      <td>I am an artist, interior designer, and run a s...</td>\n",
       "      <td>within a few hours</td>\n",
       "      <td>96%</td>\n",
       "      <td>100%</td>\n",
       "      <td>f</td>\n",
       "      <td>https://a0.muscache.com/ac/users/956883/profil...</td>\n",
       "      <td>https://a0.muscache.com/ac/users/956883/profil...</td>\n",
       "      <td>Queen Anne</td>\n",
       "      <td>3.0</td>\n",
       "      <td>3.0</td>\n",
       "      <td>['email', 'phone', 'reviews', 'kba']</td>\n",
       "      <td>t</td>\n",
       "      <td>t</td>\n",
       "      <td>Gilman Dr W, Seattle, WA 98119, United States</td>\n",
       "      <td>Queen Anne</td>\n",
       "      <td>West Queen Anne</td>\n",
       "      <td>Queen Anne</td>\n",
       "      <td>Seattle</td>\n",
       "      <td>WA</td>\n",
       "      <td>98119</td>\n",
       "      <td>Seattle</td>\n",
       "      <td>Seattle, WA</td>\n",
       "      <td>US</td>\n",
       "      <td>United States</td>\n",
       "      <td>47.636289</td>\n",
       "      <td>-122.371025</td>\n",
       "      <td>t</td>\n",
       "      <td>Apartment</td>\n",
       "      <td>Entire home/apt</td>\n",
       "      <td>4</td>\n",
       "      <td>1.0</td>\n",
       "      <td>1.0</td>\n",
       "      <td>1.0</td>\n",
       "      <td>Real Bed</td>\n",
       "      <td>{TV,\"Cable TV\",Internet,\"Wireless Internet\",\"A...</td>\n",
       "      <td>NaN</td>\n",
       "      <td>$85.00</td>\n",
       "      <td>NaN</td>\n",
       "      <td>NaN</td>\n",
       "      <td>NaN</td>\n",
       "      <td>NaN</td>\n",
       "      <td>2</td>\n",
       "      <td>$5.00</td>\n",
       "      <td>1</td>\n",
       "      <td>365</td>\n",
       "      <td>4 weeks ago</td>\n",
       "      <td>t</td>\n",
       "      <td>14</td>\n",
       "      <td>41</td>\n",
       "      <td>71</td>\n",
       "      <td>346</td>\n",
       "      <td>2016-01-04</td>\n",
       "      <td>207</td>\n",
       "      <td>2011-11-01</td>\n",
       "      <td>2016-01-02</td>\n",
       "      <td>95.0</td>\n",
       "      <td>10.0</td>\n",
       "      <td>10.0</td>\n",
       "      <td>10.0</td>\n",
       "      <td>10.0</td>\n",
       "      <td>9.0</td>\n",
       "      <td>10.0</td>\n",
       "      <td>f</td>\n",
       "      <td>NaN</td>\n",
       "      <td>WASHINGTON</td>\n",
       "      <td>f</td>\n",
       "      <td>moderate</td>\n",
       "      <td>f</td>\n",
       "      <td>f</td>\n",
       "      <td>2</td>\n",
       "      <td>4.07</td>\n",
       "    </tr>\n",
       "    <tr>\n",
       "      <th>1</th>\n",
       "      <td>953595</td>\n",
       "      <td>https://www.airbnb.com/rooms/953595</td>\n",
       "      <td>20160104002432</td>\n",
       "      <td>2016-01-04</td>\n",
       "      <td>Bright &amp; Airy Queen Anne Apartment</td>\n",
       "      <td>Chemically sensitive? We've removed the irrita...</td>\n",
       "      <td>Beautiful, hypoallergenic apartment in an extr...</td>\n",
       "      <td>Chemically sensitive? We've removed the irrita...</td>\n",
       "      <td>none</td>\n",
       "      <td>Queen Anne is a wonderful, truly functional vi...</td>\n",
       "      <td>What's up with the free pillows?  Our home was...</td>\n",
       "      <td>Convenient bus stops are just down the block, ...</td>\n",
       "      <td>https://a0.muscache.com/ac/pictures/14409893/f...</td>\n",
       "      <td>https://a0.muscache.com/im/pictures/14409893/f...</td>\n",
       "      <td>https://a0.muscache.com/ac/pictures/14409893/f...</td>\n",
       "      <td>https://a0.muscache.com/ac/pictures/14409893/f...</td>\n",
       "      <td>5177328</td>\n",
       "      <td>https://www.airbnb.com/users/show/5177328</td>\n",
       "      <td>Andrea</td>\n",
       "      <td>2013-02-21</td>\n",
       "      <td>Seattle, Washington, United States</td>\n",
       "      <td>Living east coast/left coast/overseas.  Time i...</td>\n",
       "      <td>within an hour</td>\n",
       "      <td>98%</td>\n",
       "      <td>100%</td>\n",
       "      <td>t</td>\n",
       "      <td>https://a0.muscache.com/ac/users/5177328/profi...</td>\n",
       "      <td>https://a0.muscache.com/ac/users/5177328/profi...</td>\n",
       "      <td>Queen Anne</td>\n",
       "      <td>6.0</td>\n",
       "      <td>6.0</td>\n",
       "      <td>['email', 'phone', 'facebook', 'linkedin', 're...</td>\n",
       "      <td>t</td>\n",
       "      <td>t</td>\n",
       "      <td>7th Avenue West, Seattle, WA 98119, United States</td>\n",
       "      <td>Queen Anne</td>\n",
       "      <td>West Queen Anne</td>\n",
       "      <td>Queen Anne</td>\n",
       "      <td>Seattle</td>\n",
       "      <td>WA</td>\n",
       "      <td>98119</td>\n",
       "      <td>Seattle</td>\n",
       "      <td>Seattle, WA</td>\n",
       "      <td>US</td>\n",
       "      <td>United States</td>\n",
       "      <td>47.639123</td>\n",
       "      <td>-122.365666</td>\n",
       "      <td>t</td>\n",
       "      <td>Apartment</td>\n",
       "      <td>Entire home/apt</td>\n",
       "      <td>4</td>\n",
       "      <td>1.0</td>\n",
       "      <td>1.0</td>\n",
       "      <td>1.0</td>\n",
       "      <td>Real Bed</td>\n",
       "      <td>{TV,Internet,\"Wireless Internet\",Kitchen,\"Free...</td>\n",
       "      <td>NaN</td>\n",
       "      <td>$150.00</td>\n",
       "      <td>$1,000.00</td>\n",
       "      <td>$3,000.00</td>\n",
       "      <td>$100.00</td>\n",
       "      <td>$40.00</td>\n",
       "      <td>1</td>\n",
       "      <td>$0.00</td>\n",
       "      <td>2</td>\n",
       "      <td>90</td>\n",
       "      <td>today</td>\n",
       "      <td>t</td>\n",
       "      <td>13</td>\n",
       "      <td>13</td>\n",
       "      <td>16</td>\n",
       "      <td>291</td>\n",
       "      <td>2016-01-04</td>\n",
       "      <td>43</td>\n",
       "      <td>2013-08-19</td>\n",
       "      <td>2015-12-29</td>\n",
       "      <td>96.0</td>\n",
       "      <td>10.0</td>\n",
       "      <td>10.0</td>\n",
       "      <td>10.0</td>\n",
       "      <td>10.0</td>\n",
       "      <td>10.0</td>\n",
       "      <td>10.0</td>\n",
       "      <td>f</td>\n",
       "      <td>NaN</td>\n",
       "      <td>WASHINGTON</td>\n",
       "      <td>f</td>\n",
       "      <td>strict</td>\n",
       "      <td>t</td>\n",
       "      <td>t</td>\n",
       "      <td>6</td>\n",
       "      <td>1.48</td>\n",
       "    </tr>\n",
       "  </tbody>\n",
       "</table>\n",
       "</div>"
      ],
      "text/plain": [
       "       id                          listing_url       scrape_id last_scraped  \\\n",
       "0  241032  https://www.airbnb.com/rooms/241032  20160104002432   2016-01-04   \n",
       "1  953595  https://www.airbnb.com/rooms/953595  20160104002432   2016-01-04   \n",
       "\n",
       "                                 name  \\\n",
       "0        Stylish Queen Anne Apartment   \n",
       "1  Bright & Airy Queen Anne Apartment   \n",
       "\n",
       "                                             summary  \\\n",
       "0                                                NaN   \n",
       "1  Chemically sensitive? We've removed the irrita...   \n",
       "\n",
       "                                               space  \\\n",
       "0  Make your self at home in this charming one-be...   \n",
       "1  Beautiful, hypoallergenic apartment in an extr...   \n",
       "\n",
       "                                         description experiences_offered  \\\n",
       "0  Make your self at home in this charming one-be...                none   \n",
       "1  Chemically sensitive? We've removed the irrita...                none   \n",
       "\n",
       "                               neighborhood_overview  \\\n",
       "0                                                NaN   \n",
       "1  Queen Anne is a wonderful, truly functional vi...   \n",
       "\n",
       "                                               notes  \\\n",
       "0                                                NaN   \n",
       "1  What's up with the free pillows?  Our home was...   \n",
       "\n",
       "                                             transit  \\\n",
       "0                                                NaN   \n",
       "1  Convenient bus stops are just down the block, ...   \n",
       "\n",
       "                                       thumbnail_url  \\\n",
       "0                                                NaN   \n",
       "1  https://a0.muscache.com/ac/pictures/14409893/f...   \n",
       "\n",
       "                                          medium_url  \\\n",
       "0                                                NaN   \n",
       "1  https://a0.muscache.com/im/pictures/14409893/f...   \n",
       "\n",
       "                                         picture_url  \\\n",
       "0  https://a1.muscache.com/ac/pictures/67560560/c...   \n",
       "1  https://a0.muscache.com/ac/pictures/14409893/f...   \n",
       "\n",
       "                                      xl_picture_url  host_id  \\\n",
       "0                                                NaN   956883   \n",
       "1  https://a0.muscache.com/ac/pictures/14409893/f...  5177328   \n",
       "\n",
       "                                    host_url host_name  host_since  \\\n",
       "0   https://www.airbnb.com/users/show/956883     Maija  2011-08-11   \n",
       "1  https://www.airbnb.com/users/show/5177328    Andrea  2013-02-21   \n",
       "\n",
       "                        host_location  \\\n",
       "0  Seattle, Washington, United States   \n",
       "1  Seattle, Washington, United States   \n",
       "\n",
       "                                          host_about  host_response_time  \\\n",
       "0  I am an artist, interior designer, and run a s...  within a few hours   \n",
       "1  Living east coast/left coast/overseas.  Time i...      within an hour   \n",
       "\n",
       "  host_response_rate host_acceptance_rate host_is_superhost  \\\n",
       "0                96%                 100%                 f   \n",
       "1                98%                 100%                 t   \n",
       "\n",
       "                                  host_thumbnail_url  \\\n",
       "0  https://a0.muscache.com/ac/users/956883/profil...   \n",
       "1  https://a0.muscache.com/ac/users/5177328/profi...   \n",
       "\n",
       "                                    host_picture_url host_neighbourhood  \\\n",
       "0  https://a0.muscache.com/ac/users/956883/profil...         Queen Anne   \n",
       "1  https://a0.muscache.com/ac/users/5177328/profi...         Queen Anne   \n",
       "\n",
       "   host_listings_count  host_total_listings_count  \\\n",
       "0                  3.0                        3.0   \n",
       "1                  6.0                        6.0   \n",
       "\n",
       "                                  host_verifications host_has_profile_pic  \\\n",
       "0               ['email', 'phone', 'reviews', 'kba']                    t   \n",
       "1  ['email', 'phone', 'facebook', 'linkedin', 're...                    t   \n",
       "\n",
       "  host_identity_verified                                             street  \\\n",
       "0                      t      Gilman Dr W, Seattle, WA 98119, United States   \n",
       "1                      t  7th Avenue West, Seattle, WA 98119, United States   \n",
       "\n",
       "  neighbourhood neighbourhood_cleansed neighbourhood_group_cleansed     city  \\\n",
       "0    Queen Anne        West Queen Anne                   Queen Anne  Seattle   \n",
       "1    Queen Anne        West Queen Anne                   Queen Anne  Seattle   \n",
       "\n",
       "  state zipcode   market smart_location country_code        country  \\\n",
       "0    WA   98119  Seattle    Seattle, WA           US  United States   \n",
       "1    WA   98119  Seattle    Seattle, WA           US  United States   \n",
       "\n",
       "    latitude   longitude is_location_exact property_type        room_type  \\\n",
       "0  47.636289 -122.371025                 t     Apartment  Entire home/apt   \n",
       "1  47.639123 -122.365666                 t     Apartment  Entire home/apt   \n",
       "\n",
       "   accommodates  bathrooms  bedrooms  beds  bed_type  \\\n",
       "0             4        1.0       1.0   1.0  Real Bed   \n",
       "1             4        1.0       1.0   1.0  Real Bed   \n",
       "\n",
       "                                           amenities  square_feet    price  \\\n",
       "0  {TV,\"Cable TV\",Internet,\"Wireless Internet\",\"A...          NaN   $85.00   \n",
       "1  {TV,Internet,\"Wireless Internet\",Kitchen,\"Free...          NaN  $150.00   \n",
       "\n",
       "  weekly_price monthly_price security_deposit cleaning_fee  guests_included  \\\n",
       "0          NaN           NaN              NaN          NaN                2   \n",
       "1    $1,000.00     $3,000.00          $100.00       $40.00                1   \n",
       "\n",
       "  extra_people  minimum_nights  maximum_nights calendar_updated  \\\n",
       "0        $5.00               1             365      4 weeks ago   \n",
       "1        $0.00               2              90            today   \n",
       "\n",
       "  has_availability  availability_30  availability_60  availability_90  \\\n",
       "0                t               14               41               71   \n",
       "1                t               13               13               16   \n",
       "\n",
       "   availability_365 calendar_last_scraped  number_of_reviews first_review  \\\n",
       "0               346            2016-01-04                207   2011-11-01   \n",
       "1               291            2016-01-04                 43   2013-08-19   \n",
       "\n",
       "  last_review  review_scores_rating  review_scores_accuracy  \\\n",
       "0  2016-01-02                  95.0                    10.0   \n",
       "1  2015-12-29                  96.0                    10.0   \n",
       "\n",
       "   review_scores_cleanliness  review_scores_checkin  \\\n",
       "0                       10.0                   10.0   \n",
       "1                       10.0                   10.0   \n",
       "\n",
       "   review_scores_communication  review_scores_location  review_scores_value  \\\n",
       "0                         10.0                     9.0                 10.0   \n",
       "1                         10.0                    10.0                 10.0   \n",
       "\n",
       "  requires_license  license jurisdiction_names instant_bookable  \\\n",
       "0                f      NaN         WASHINGTON                f   \n",
       "1                f      NaN         WASHINGTON                f   \n",
       "\n",
       "  cancellation_policy require_guest_profile_picture  \\\n",
       "0            moderate                             f   \n",
       "1              strict                             t   \n",
       "\n",
       "  require_guest_phone_verification  calculated_host_listings_count  \\\n",
       "0                                f                               2   \n",
       "1                                t                               6   \n",
       "\n",
       "   reviews_per_month  \n",
       "0               4.07  \n",
       "1               1.48  "
      ]
     },
     "execution_count": 572,
     "metadata": {},
     "output_type": "execute_result"
    }
   ],
   "source": [
    "df_listings.head(2)"
   ]
  },
  {
   "cell_type": "code",
   "execution_count": 573,
   "id": "8fc29484",
   "metadata": {},
   "outputs": [
    {
     "data": {
      "text/plain": [
       "(3818, 92)"
      ]
     },
     "execution_count": 573,
     "metadata": {},
     "output_type": "execute_result"
    }
   ],
   "source": [
    "df_listings.shape"
   ]
  },
  {
   "cell_type": "code",
   "execution_count": 574,
   "id": "4b966885",
   "metadata": {},
   "outputs": [],
   "source": [
    "df_listings_copy = df_listings.copy()"
   ]
  },
  {
   "cell_type": "code",
   "execution_count": 575,
   "id": "b69f3c6a",
   "metadata": {},
   "outputs": [
    {
     "data": {
      "text/html": [
       "<div>\n",
       "<style scoped>\n",
       "    .dataframe tbody tr th:only-of-type {\n",
       "        vertical-align: middle;\n",
       "    }\n",
       "\n",
       "    .dataframe tbody tr th {\n",
       "        vertical-align: top;\n",
       "    }\n",
       "\n",
       "    .dataframe thead th {\n",
       "        text-align: right;\n",
       "    }\n",
       "</style>\n",
       "<table border=\"1\" class=\"dataframe\">\n",
       "  <thead>\n",
       "    <tr style=\"text-align: right;\">\n",
       "      <th></th>\n",
       "      <th>neighbourhood</th>\n",
       "      <th>review_scores_rating</th>\n",
       "      <th>host_is_superhost</th>\n",
       "    </tr>\n",
       "  </thead>\n",
       "  <tbody>\n",
       "    <tr>\n",
       "      <th>0</th>\n",
       "      <td>Queen Anne</td>\n",
       "      <td>95.0</td>\n",
       "      <td>f</td>\n",
       "    </tr>\n",
       "    <tr>\n",
       "      <th>1</th>\n",
       "      <td>Queen Anne</td>\n",
       "      <td>96.0</td>\n",
       "      <td>t</td>\n",
       "    </tr>\n",
       "    <tr>\n",
       "      <th>2</th>\n",
       "      <td>Queen Anne</td>\n",
       "      <td>97.0</td>\n",
       "      <td>f</td>\n",
       "    </tr>\n",
       "    <tr>\n",
       "      <th>3</th>\n",
       "      <td>Queen Anne</td>\n",
       "      <td>NaN</td>\n",
       "      <td>f</td>\n",
       "    </tr>\n",
       "    <tr>\n",
       "      <th>4</th>\n",
       "      <td>Queen Anne</td>\n",
       "      <td>92.0</td>\n",
       "      <td>f</td>\n",
       "    </tr>\n",
       "  </tbody>\n",
       "</table>\n",
       "</div>"
      ],
      "text/plain": [
       "  neighbourhood  review_scores_rating host_is_superhost\n",
       "0    Queen Anne                  95.0                 f\n",
       "1    Queen Anne                  96.0                 t\n",
       "2    Queen Anne                  97.0                 f\n",
       "3    Queen Anne                   NaN                 f\n",
       "4    Queen Anne                  92.0                 f"
      ]
     },
     "execution_count": 575,
     "metadata": {},
     "output_type": "execute_result"
    }
   ],
   "source": [
    "df_listings_copy = df_listings_copy[['neighbourhood', 'review_scores_rating', 'host_is_superhost']]\n",
    "df_listings_copy.head()"
   ]
  },
  {
   "cell_type": "code",
   "execution_count": 576,
   "id": "d93f8d91",
   "metadata": {},
   "outputs": [
    {
     "data": {
      "text/plain": [
       "f    3038\n",
       "t     778\n",
       "Name: host_is_superhost, dtype: int64"
      ]
     },
     "execution_count": 576,
     "metadata": {},
     "output_type": "execute_result"
    }
   ],
   "source": [
    "df_listings_copy['host_is_superhost'].value_counts()"
   ]
  },
  {
   "cell_type": "code",
   "execution_count": 577,
   "id": "081619b1",
   "metadata": {},
   "outputs": [
    {
     "name": "stdout",
     "output_type": "stream",
     "text": [
      "<class 'pandas.core.frame.DataFrame'>\n",
      "RangeIndex: 3818 entries, 0 to 3817\n",
      "Data columns (total 3 columns):\n",
      " #   Column                Non-Null Count  Dtype  \n",
      "---  ------                --------------  -----  \n",
      " 0   neighbourhood         3402 non-null   object \n",
      " 1   review_scores_rating  3171 non-null   float64\n",
      " 2   host_is_superhost     3816 non-null   object \n",
      "dtypes: float64(1), object(2)\n",
      "memory usage: 89.6+ KB\n"
     ]
    }
   ],
   "source": [
    "df_listings_copy.info()"
   ]
  },
  {
   "cell_type": "code",
   "execution_count": 578,
   "id": "9567614d",
   "metadata": {},
   "outputs": [
    {
     "data": {
      "text/plain": [
       "neighbourhood           416\n",
       "review_scores_rating    647\n",
       "host_is_superhost         2\n",
       "dtype: int64"
      ]
     },
     "execution_count": 578,
     "metadata": {},
     "output_type": "execute_result"
    }
   ],
   "source": [
    "# Checking for null values\n",
    "df_listings_copy.isnull().sum()"
   ]
  },
  {
   "cell_type": "code",
   "execution_count": 579,
   "id": "31d87c7a",
   "metadata": {},
   "outputs": [],
   "source": [
    "# We'll drop the 2 null values for 'host_is_superhost' since it is only 2 records\n",
    "# We'll also convert the 't' and 'f' to 0 and 1: 0 being False, 1 being True\n",
    "\n",
    "df_listings_copy.dropna(subset = 'host_is_superhost', inplace = True)"
   ]
  },
  {
   "cell_type": "code",
   "execution_count": 580,
   "id": "841264e4",
   "metadata": {},
   "outputs": [
    {
     "data": {
      "text/plain": [
       "neighbourhood           416\n",
       "review_scores_rating    645\n",
       "host_is_superhost         0\n",
       "dtype: int64"
      ]
     },
     "execution_count": 580,
     "metadata": {},
     "output_type": "execute_result"
    }
   ],
   "source": [
    "df_listings_copy.isnull().sum()"
   ]
  },
  {
   "cell_type": "code",
   "execution_count": 581,
   "id": "95ac13c1",
   "metadata": {},
   "outputs": [
    {
     "data": {
      "text/plain": [
       "f    3038\n",
       "t     778\n",
       "Name: host_is_superhost, dtype: int64"
      ]
     },
     "execution_count": 581,
     "metadata": {},
     "output_type": "execute_result"
    }
   ],
   "source": [
    "df_listings_copy['host_is_superhost'].value_counts()"
   ]
  },
  {
   "cell_type": "code",
   "execution_count": 582,
   "id": "1ab95722",
   "metadata": {},
   "outputs": [
    {
     "data": {
      "text/plain": [
       "0    3038\n",
       "1     778\n",
       "Name: host_is_superhost, dtype: int64"
      ]
     },
     "execution_count": 582,
     "metadata": {},
     "output_type": "execute_result"
    }
   ],
   "source": [
    "df_listings_copy['host_is_superhost'] = df_listings_copy['host_is_superhost'] \\\n",
    ".apply(lambda x: 1 if x == 't' else 0)\n",
    "df_listings_copy['host_is_superhost'].value_counts()"
   ]
  },
  {
   "cell_type": "code",
   "execution_count": 583,
   "id": "60b2c2fd",
   "metadata": {},
   "outputs": [
    {
     "data": {
      "text/html": [
       "<div>\n",
       "<style scoped>\n",
       "    .dataframe tbody tr th:only-of-type {\n",
       "        vertical-align: middle;\n",
       "    }\n",
       "\n",
       "    .dataframe tbody tr th {\n",
       "        vertical-align: top;\n",
       "    }\n",
       "\n",
       "    .dataframe thead th {\n",
       "        text-align: right;\n",
       "    }\n",
       "</style>\n",
       "<table border=\"1\" class=\"dataframe\">\n",
       "  <thead>\n",
       "    <tr style=\"text-align: right;\">\n",
       "      <th></th>\n",
       "      <th>neighbourhood</th>\n",
       "      <th>review_scores_rating</th>\n",
       "      <th>host_is_superhost</th>\n",
       "    </tr>\n",
       "  </thead>\n",
       "  <tbody>\n",
       "    <tr>\n",
       "      <th>0</th>\n",
       "      <td>Queen Anne</td>\n",
       "      <td>95.0</td>\n",
       "      <td>0</td>\n",
       "    </tr>\n",
       "    <tr>\n",
       "      <th>1</th>\n",
       "      <td>Queen Anne</td>\n",
       "      <td>96.0</td>\n",
       "      <td>1</td>\n",
       "    </tr>\n",
       "    <tr>\n",
       "      <th>2</th>\n",
       "      <td>Queen Anne</td>\n",
       "      <td>97.0</td>\n",
       "      <td>0</td>\n",
       "    </tr>\n",
       "    <tr>\n",
       "      <th>3</th>\n",
       "      <td>Queen Anne</td>\n",
       "      <td>NaN</td>\n",
       "      <td>0</td>\n",
       "    </tr>\n",
       "    <tr>\n",
       "      <th>4</th>\n",
       "      <td>Queen Anne</td>\n",
       "      <td>92.0</td>\n",
       "      <td>0</td>\n",
       "    </tr>\n",
       "  </tbody>\n",
       "</table>\n",
       "</div>"
      ],
      "text/plain": [
       "  neighbourhood  review_scores_rating  host_is_superhost\n",
       "0    Queen Anne                  95.0                  0\n",
       "1    Queen Anne                  96.0                  1\n",
       "2    Queen Anne                  97.0                  0\n",
       "3    Queen Anne                   NaN                  0\n",
       "4    Queen Anne                  92.0                  0"
      ]
     },
     "execution_count": 583,
     "metadata": {},
     "output_type": "execute_result"
    }
   ],
   "source": [
    "# Checking our dataset now after applying the above:\n",
    "\n",
    "df_listings_copy.head()"
   ]
  },
  {
   "cell_type": "code",
   "execution_count": 584,
   "id": "4d7ad615",
   "metadata": {},
   "outputs": [
    {
     "data": {
      "image/png": "[encoded data removed]",
      "text/plain": [
       "<Figure size 400x300 with 1 Axes>"
      ]
     },
     "metadata": {},
     "output_type": "display_data"
    }
   ],
   "source": [
    "# Now we'll see how to handle null values for review_score_ratings\n",
    "# First, let's look at review_score_ratings visually on a histogram to see how our data is distributed\n",
    "\n",
    "plt.figure(figsize = (4,3))\n",
    "plt.hist(df_listings_copy['review_scores_rating'], bins = 50)\n",
    "plt.xlabel('review score')\n",
    "plt.ylabel('count')\n",
    "plt.title('distribution of reviews');"
   ]
  },
  {
   "cell_type": "code",
   "execution_count": 585,
   "id": "e3380ed6",
   "metadata": {},
   "outputs": [
    {
     "name": "stdout",
     "output_type": "stream",
     "text": [
      "count    3171.000000\n",
      "mean       94.539262\n",
      "std         6.606083\n",
      "min        20.000000\n",
      "25%        93.000000\n",
      "50%        96.000000\n",
      "75%        99.000000\n",
      "max       100.000000\n",
      "Name: review_scores_rating, dtype: float64\n"
     ]
    }
   ],
   "source": [
    "# As seen in the hist plot, our data is heavily negatively skewed due to some extreme anamolies / outliers\n",
    "# Lets check some measures of central tendency & dispersion in our review_scores_rating column\n",
    "\n",
    "print(df_listings_copy['review_scores_rating'].describe())"
   ]
  },
  {
   "cell_type": "code",
   "execution_count": 586,
   "id": "3947d4db",
   "metadata": {},
   "outputs": [],
   "source": [
    "# We can build a function that gets rid outliers\n",
    "df\n",
    "def outliers_three_std(df, column_name):\n",
    "    '''\n",
    "    This function serves to identify and return values that are over\n",
    "    3 standard deviations from the mean.\n",
    "    \n",
    "    It takes two inputs: df, column_name, then checks if that specific column\n",
    "    in that df has any values that are beyond 3 std's from the mean.\n",
    "    '''\n",
    "    # Calculate the mean and standard deviation of the column\n",
    "    mean_val = df[column_name].mean()\n",
    "    std_val = df[column_name].std()\n",
    "\n",
    "    # Define the threshold for outliers (3 standard deviations from the mean)\n",
    "    threshold = 3 * std_val\n",
    "\n",
    "    # Filter the DataFrame to include only the rows where the column value exceeds the threshold\n",
    "    outliers = df_listings_copy[abs(df_listings_copy['review_scores_rating'] - mean_val) > threshold]\n",
    "    \n",
    "    return outliers"
   ]
  },
  {
   "cell_type": "code",
   "execution_count": 587,
   "id": "b64da689",
   "metadata": {},
   "outputs": [
    {
     "data": {
      "text/plain": [
       "Int64Index([ 145,  352,  716,  718,  732,  735,  748,  750,  754,  756,  789,\n",
       "             790,  805,  806,  911,  969, 1076, 1124, 1126, 1153, 1162, 1188,\n",
       "            1190, 1219, 1222, 1231, 1480, 1512, 1520, 1666, 1972, 1975, 2089,\n",
       "            2176, 2232, 2320, 2447, 2464, 2474, 2495, 2609, 2628, 2661, 2688,\n",
       "            2716, 2723, 2742, 2776, 2777, 2859, 3148, 3614],\n",
       "           dtype='int64')"
      ]
     },
     "execution_count": 587,
     "metadata": {},
     "output_type": "execute_result"
    }
   ],
   "source": [
    "# Using the newly created function to identify the values over 3 std's away from the mean\n",
    "\n",
    "outliers_three_std(df_listings_copy, 'review_scores_rating')\n",
    "outliers_three_std(df_listings_copy, 'review_scores_rating').index"
   ]
  },
  {
   "cell_type": "code",
   "execution_count": 588,
   "id": "e964b5eb",
   "metadata": {},
   "outputs": [
    {
     "data": {
      "text/html": [
       "<div>\n",
       "<style scoped>\n",
       "    .dataframe tbody tr th:only-of-type {\n",
       "        vertical-align: middle;\n",
       "    }\n",
       "\n",
       "    .dataframe tbody tr th {\n",
       "        vertical-align: top;\n",
       "    }\n",
       "\n",
       "    .dataframe thead th {\n",
       "        text-align: right;\n",
       "    }\n",
       "</style>\n",
       "<table border=\"1\" class=\"dataframe\">\n",
       "  <thead>\n",
       "    <tr style=\"text-align: right;\">\n",
       "      <th></th>\n",
       "      <th>neighbourhood</th>\n",
       "      <th>review_scores_rating</th>\n",
       "      <th>host_is_superhost</th>\n",
       "    </tr>\n",
       "  </thead>\n",
       "  <tbody>\n",
       "    <tr>\n",
       "      <th>0</th>\n",
       "      <td>Queen Anne</td>\n",
       "      <td>95.0</td>\n",
       "      <td>0</td>\n",
       "    </tr>\n",
       "    <tr>\n",
       "      <th>1</th>\n",
       "      <td>Queen Anne</td>\n",
       "      <td>96.0</td>\n",
       "      <td>1</td>\n",
       "    </tr>\n",
       "    <tr>\n",
       "      <th>2</th>\n",
       "      <td>Queen Anne</td>\n",
       "      <td>97.0</td>\n",
       "      <td>0</td>\n",
       "    </tr>\n",
       "    <tr>\n",
       "      <th>3</th>\n",
       "      <td>Queen Anne</td>\n",
       "      <td>NaN</td>\n",
       "      <td>0</td>\n",
       "    </tr>\n",
       "    <tr>\n",
       "      <th>4</th>\n",
       "      <td>Queen Anne</td>\n",
       "      <td>92.0</td>\n",
       "      <td>0</td>\n",
       "    </tr>\n",
       "  </tbody>\n",
       "</table>\n",
       "</div>"
      ],
      "text/plain": [
       "  neighbourhood  review_scores_rating  host_is_superhost\n",
       "0    Queen Anne                  95.0                  0\n",
       "1    Queen Anne                  96.0                  1\n",
       "2    Queen Anne                  97.0                  0\n",
       "3    Queen Anne                   NaN                  0\n",
       "4    Queen Anne                  92.0                  0"
      ]
     },
     "execution_count": 588,
     "metadata": {},
     "output_type": "execute_result"
    }
   ],
   "source": [
    "# Dropping them\n",
    "\n",
    "df_listings_copy2 = df_listings_copy.drop(index = outliers_three_std(df_listings_copy, 'review_scores_rating') \\\n",
    "                                          .index, axis = 0).copy()\n",
    "df_listings_copy2.head()"
   ]
  },
  {
   "cell_type": "code",
   "execution_count": 589,
   "id": "ce88ca7b",
   "metadata": {},
   "outputs": [
    {
     "data": {
      "image/png": "[encoded data removed]",
      "text/plain": [
       "<Figure size 400x300 with 1 Axes>"
      ]
     },
     "metadata": {},
     "output_type": "display_data"
    }
   ],
   "source": [
    "# histogram after removing our extreme values\n",
    "# We still have negatively skewed shape for our review_scores_rating distribution\n",
    "\n",
    "plt.figure(figsize = (4,3))\n",
    "plt.hist(df_listings_copy2['review_scores_rating'], bins = 20)\n",
    "plt.xlabel('review score')\n",
    "plt.ylabel('count')\n",
    "plt.title('distribution of reviews');"
   ]
  },
  {
   "cell_type": "code",
   "execution_count": 590,
   "id": "34f590fa",
   "metadata": {},
   "outputs": [
    {
     "data": {
      "text/plain": [
       "count    3119.000000\n",
       "mean       95.052260\n",
       "std         5.131012\n",
       "min        75.000000\n",
       "25%        93.000000\n",
       "50%        96.000000\n",
       "75%       100.000000\n",
       "max       100.000000\n",
       "Name: review_scores_rating, dtype: float64"
      ]
     },
     "execution_count": 590,
     "metadata": {},
     "output_type": "execute_result"
    }
   ],
   "source": [
    "df_listings_copy2['review_scores_rating'].describe()"
   ]
  },
  {
   "cell_type": "code",
   "execution_count": 592,
   "id": "0c9d5e72",
   "metadata": {},
   "outputs": [],
   "source": [
    "# Since the data is negatively skewed, we'll use the median to impute missing values\n",
    "\n",
    "df_listings_copy2['review_scores_rating'] = df_listings_copy2['review_scores_rating'].fillna(96)"
   ]
  },
  {
   "cell_type": "code",
   "execution_count": 593,
   "id": "d0973c42",
   "metadata": {},
   "outputs": [
    {
     "data": {
      "text/plain": [
       "neighbourhood           408\n",
       "review_scores_rating      0\n",
       "host_is_superhost         0\n",
       "dtype: int64"
      ]
     },
     "execution_count": 593,
     "metadata": {},
     "output_type": "execute_result"
    }
   ],
   "source": [
    "df_listings_copy2.isnull().sum()"
   ]
  },
  {
   "cell_type": "code",
   "execution_count": 597,
   "id": "9b07145f",
   "metadata": {},
   "outputs": [
    {
     "data": {
      "text/plain": [
       "81"
      ]
     },
     "execution_count": 597,
     "metadata": {},
     "output_type": "execute_result"
    }
   ],
   "source": [
    "# Lastly, we'll explore the 'neighbourhood' column / values\n",
    "# Deal with null values\n",
    "\n",
    "df_listings_copy2['neighbourhood'].nunique()"
   ]
  },
  {
   "cell_type": "code",
   "execution_count": 602,
   "id": "b67fc27b",
   "metadata": {},
   "outputs": [
    {
     "data": {
      "text/plain": [
       "Capitol Hill           343\n",
       "Ballard                212\n",
       "Belltown               200\n",
       "Minor                  191\n",
       "Queen Anne             187\n",
       "Fremont                148\n",
       "Wallingford            142\n",
       "First Hill             104\n",
       "Stevens                 97\n",
       "University District     95\n",
       "Name: neighbourhood, dtype: int64"
      ]
     },
     "execution_count": 602,
     "metadata": {},
     "output_type": "execute_result"
    }
   ],
   "source": [
    "# we have 400+ null values here that we can fill out with the mode\n",
    "# However, this would immensely increase Capitol Hill as the most popular neighbourhood\n",
    "# We can drop the NaN values to preserve the actual trend in our data\n",
    "\n",
    "df_listings_copy2['neighbourhood'].value_counts()[0:10]"
   ]
  },
  {
   "cell_type": "code",
   "execution_count": 605,
   "id": "14ec8e44",
   "metadata": {},
   "outputs": [],
   "source": [
    "df_listings_copy2 = df_listings_copy2.dropna(subset = 'neighbourhood')"
   ]
  },
  {
   "cell_type": "code",
   "execution_count": 607,
   "id": "2dc6e162",
   "metadata": {},
   "outputs": [
    {
     "data": {
      "text/plain": [
       "neighbourhood           0\n",
       "review_scores_rating    0\n",
       "host_is_superhost       0\n",
       "dtype: int64"
      ]
     },
     "execution_count": 607,
     "metadata": {},
     "output_type": "execute_result"
    }
   ],
   "source": [
    "df_listings_copy2.isnull().sum()"
   ]
  },
  {
   "cell_type": "code",
   "execution_count": 614,
   "id": "ac4ae2c8",
   "metadata": {},
   "outputs": [
    {
     "data": {
      "text/html": [
       "<div>\n",
       "<style scoped>\n",
       "    .dataframe tbody tr th:only-of-type {\n",
       "        vertical-align: middle;\n",
       "    }\n",
       "\n",
       "    .dataframe tbody tr th {\n",
       "        vertical-align: top;\n",
       "    }\n",
       "\n",
       "    .dataframe thead th {\n",
       "        text-align: right;\n",
       "    }\n",
       "</style>\n",
       "<table border=\"1\" class=\"dataframe\">\n",
       "  <thead>\n",
       "    <tr style=\"text-align: right;\">\n",
       "      <th></th>\n",
       "      <th>neighbourhood</th>\n",
       "      <th>review_scores_rating</th>\n",
       "      <th>host_is_superhost</th>\n",
       "    </tr>\n",
       "  </thead>\n",
       "  <tbody>\n",
       "    <tr>\n",
       "      <th>0</th>\n",
       "      <td>Queen Anne</td>\n",
       "      <td>95.0</td>\n",
       "      <td>0</td>\n",
       "    </tr>\n",
       "    <tr>\n",
       "      <th>1</th>\n",
       "      <td>Queen Anne</td>\n",
       "      <td>96.0</td>\n",
       "      <td>1</td>\n",
       "    </tr>\n",
       "    <tr>\n",
       "      <th>2</th>\n",
       "      <td>Queen Anne</td>\n",
       "      <td>97.0</td>\n",
       "      <td>0</td>\n",
       "    </tr>\n",
       "    <tr>\n",
       "      <th>3</th>\n",
       "      <td>Queen Anne</td>\n",
       "      <td>96.0</td>\n",
       "      <td>0</td>\n",
       "    </tr>\n",
       "    <tr>\n",
       "      <th>4</th>\n",
       "      <td>Queen Anne</td>\n",
       "      <td>92.0</td>\n",
       "      <td>0</td>\n",
       "    </tr>\n",
       "  </tbody>\n",
       "</table>\n",
       "</div>"
      ],
      "text/plain": [
       "  neighbourhood  review_scores_rating  host_is_superhost\n",
       "0    Queen Anne                  95.0                  0\n",
       "1    Queen Anne                  96.0                  1\n",
       "2    Queen Anne                  97.0                  0\n",
       "3    Queen Anne                  96.0                  0\n",
       "4    Queen Anne                  92.0                  0"
      ]
     },
     "execution_count": 614,
     "metadata": {},
     "output_type": "execute_result"
    }
   ],
   "source": [
    "# Now that we've fixed our dataset, Let's explore our new df\n",
    "\n",
    "df_listings_copy2.head()"
   ]
  },
  {
   "cell_type": "code",
   "execution_count": 628,
   "id": "ab0a7512",
   "metadata": {},
   "outputs": [
    {
     "data": {
      "text/plain": [
       "0.27073078379401744"
      ]
     },
     "execution_count": 628,
     "metadata": {},
     "output_type": "execute_result"
    }
   ],
   "source": [
    "# Percentage of Super Hosts\n",
    "df_listings_copy2['host_is_superhost'].value_counts()[1] / df_listings_copy2['host_is_superhost'].value_counts()[0]"
   ]
  },
  {
   "cell_type": "code",
   "execution_count": 633,
   "id": "476c5b90",
   "metadata": {},
   "outputs": [
    {
     "data": {
      "text/html": [
       "<div>\n",
       "<style scoped>\n",
       "    .dataframe tbody tr th:only-of-type {\n",
       "        vertical-align: middle;\n",
       "    }\n",
       "\n",
       "    .dataframe tbody tr th {\n",
       "        vertical-align: top;\n",
       "    }\n",
       "\n",
       "    .dataframe thead th {\n",
       "        text-align: right;\n",
       "    }\n",
       "</style>\n",
       "<table border=\"1\" class=\"dataframe\">\n",
       "  <thead>\n",
       "    <tr style=\"text-align: right;\">\n",
       "      <th></th>\n",
       "      <th>review_scores_rating</th>\n",
       "    </tr>\n",
       "    <tr>\n",
       "      <th>host_is_superhost</th>\n",
       "      <th></th>\n",
       "    </tr>\n",
       "  </thead>\n",
       "  <tbody>\n",
       "    <tr>\n",
       "      <th>0</th>\n",
       "      <td>94.601287</td>\n",
       "    </tr>\n",
       "    <tr>\n",
       "      <th>1</th>\n",
       "      <td>97.430769</td>\n",
       "    </tr>\n",
       "  </tbody>\n",
       "</table>\n",
       "</div>"
      ],
      "text/plain": [
       "                   review_scores_rating\n",
       "host_is_superhost                      \n",
       "0                             94.601287\n",
       "1                             97.430769"
      ]
     },
     "execution_count": 633,
     "metadata": {},
     "output_type": "execute_result"
    }
   ],
   "source": [
    "# Superhosts tend to be more highly rated\n",
    "df_listings_copy2.groupby('host_is_superhost')['review_scores_rating'].agg('mean').to_frame()"
   ]
  },
  {
   "cell_type": "code",
   "execution_count": 680,
   "id": "0ff585de",
   "metadata": {},
   "outputs": [
    {
     "data": {
      "text/html": [
       "<div>\n",
       "<style scoped>\n",
       "    .dataframe tbody tr th:only-of-type {\n",
       "        vertical-align: middle;\n",
       "    }\n",
       "\n",
       "    .dataframe tbody tr th {\n",
       "        vertical-align: top;\n",
       "    }\n",
       "\n",
       "    .dataframe thead th {\n",
       "        text-align: right;\n",
       "    }\n",
       "</style>\n",
       "<table border=\"1\" class=\"dataframe\">\n",
       "  <thead>\n",
       "    <tr style=\"text-align: right;\">\n",
       "      <th></th>\n",
       "      <th></th>\n",
       "      <th>mean</th>\n",
       "      <th>count</th>\n",
       "    </tr>\n",
       "    <tr>\n",
       "      <th>neighbourhood</th>\n",
       "      <th>host_is_superhost</th>\n",
       "      <th></th>\n",
       "      <th></th>\n",
       "    </tr>\n",
       "  </thead>\n",
       "  <tbody>\n",
       "    <tr>\n",
       "      <th rowspan=\"2\" valign=\"top\">Alki</th>\n",
       "      <th>0</th>\n",
       "      <td>95.850000</td>\n",
       "      <td>20</td>\n",
       "    </tr>\n",
       "    <tr>\n",
       "      <th>1</th>\n",
       "      <td>96.666667</td>\n",
       "      <td>3</td>\n",
       "    </tr>\n",
       "    <tr>\n",
       "      <th rowspan=\"2\" valign=\"top\">Arbor Heights</th>\n",
       "      <th>0</th>\n",
       "      <td>98.000000</td>\n",
       "      <td>2</td>\n",
       "    </tr>\n",
       "    <tr>\n",
       "      <th>1</th>\n",
       "      <td>98.000000</td>\n",
       "      <td>1</td>\n",
       "    </tr>\n",
       "    <tr>\n",
       "      <th>Atlantic</th>\n",
       "      <th>0</th>\n",
       "      <td>94.641026</td>\n",
       "      <td>39</td>\n",
       "    </tr>\n",
       "    <tr>\n",
       "      <th>...</th>\n",
       "      <th>...</th>\n",
       "      <td>...</td>\n",
       "      <td>...</td>\n",
       "    </tr>\n",
       "    <tr>\n",
       "      <th rowspan=\"2\" valign=\"top\">Westlake</th>\n",
       "      <th>0</th>\n",
       "      <td>96.181818</td>\n",
       "      <td>11</td>\n",
       "    </tr>\n",
       "    <tr>\n",
       "      <th>1</th>\n",
       "      <td>98.000000</td>\n",
       "      <td>1</td>\n",
       "    </tr>\n",
       "    <tr>\n",
       "      <th rowspan=\"2\" valign=\"top\">Windermere</th>\n",
       "      <th>0</th>\n",
       "      <td>98.000000</td>\n",
       "      <td>9</td>\n",
       "    </tr>\n",
       "    <tr>\n",
       "      <th>1</th>\n",
       "      <td>90.000000</td>\n",
       "      <td>1</td>\n",
       "    </tr>\n",
       "    <tr>\n",
       "      <th>Yesler Terrace</th>\n",
       "      <th>0</th>\n",
       "      <td>97.333333</td>\n",
       "      <td>12</td>\n",
       "    </tr>\n",
       "  </tbody>\n",
       "</table>\n",
       "<p>149 rows × 2 columns</p>\n",
       "</div>"
      ],
      "text/plain": [
       "                                       mean  count\n",
       "neighbourhood  host_is_superhost                  \n",
       "Alki           0                  95.850000     20\n",
       "               1                  96.666667      3\n",
       "Arbor Heights  0                  98.000000      2\n",
       "               1                  98.000000      1\n",
       "Atlantic       0                  94.641026     39\n",
       "...                                     ...    ...\n",
       "Westlake       0                  96.181818     11\n",
       "               1                  98.000000      1\n",
       "Windermere     0                  98.000000      9\n",
       "               1                  90.000000      1\n",
       "Yesler Terrace 0                  97.333333     12\n",
       "\n",
       "[149 rows x 2 columns]"
      ]
     },
     "execution_count": 680,
     "metadata": {},
     "output_type": "execute_result"
    }
   ],
   "source": [
    "# Grouping our data in a manner to see each neighborhood's count of superhosts (and the mean score)\n",
    "# Lets look at the top 10 most popualar destinations and their 'Superhost' split\n",
    "\n",
    "df_grouped = df_listings_copy2.groupby(['neighbourhood','host_is_superhost'])\\\n",
    "                        ['review_scores_rating'].agg(['mean','count'])\n",
    "df_grouped"
   ]
  },
  {
   "cell_type": "code",
   "execution_count": 685,
   "id": "709fb71d",
   "metadata": {},
   "outputs": [
    {
     "data": {
      "text/plain": [
       "Index(['Capitol Hill', 'Ballard', 'Belltown', 'Minor', 'Queen Anne', 'Fremont',\n",
       "       'Wallingford', 'First Hill', 'Stevens', 'University District',\n",
       "       'North Beacon Hill', 'Lower Queen Anne', 'Central Business District',\n",
       "       'Greenwood', 'Columbia City', 'Phinney Ridge', 'Ravenna', 'Magnolia',\n",
       "       'Green Lake', 'Atlantic'],\n",
       "      dtype='object')"
      ]
     },
     "execution_count": 685,
     "metadata": {},
     "output_type": "execute_result"
    }
   ],
   "source": [
    "# Top 20 destinations\n",
    "df_listings_copy2['neighbourhood'].value_counts()[0:20].index\n",
    "top_20_cities = df_listings_copy2['neighbourhood'].value_counts()[0:20].index\n",
    "top_20_cities"
   ]
  },
  {
   "cell_type": "code",
   "execution_count": 721,
   "id": "42e4879e",
   "metadata": {},
   "outputs": [
    {
     "data": {
      "text/plain": [
       "[('Atlantic', 0.28205128205128205),\n",
       " ('Ballard', 0.36774193548387096),\n",
       " ('Belltown', 0.2345679012345679),\n",
       " ('Capitol Hill', 0.2206405693950178),\n",
       " ('Central Business District', 0.234375),\n",
       " ('Columbia City', 0.4634146341463415),\n",
       " ('First Hill', 0.25301204819277107),\n",
       " ('Fremont', 0.30973451327433627),\n",
       " ('Green Lake', 0.3333333333333333),\n",
       " ('Greenwood', 0.21875),\n",
       " ('Lower Queen Anne', 0.2857142857142857),\n",
       " ('Magnolia', 0.3170731707317073),\n",
       " ('Minor', 0.37410071942446044),\n",
       " ('North Beacon Hill', 0.21794871794871795),\n",
       " ('Phinney Ridge', 0.3333333333333333),\n",
       " ('Queen Anne', 0.2635135135135135),\n",
       " ('Ravenna', 0.2222222222222222),\n",
       " ('Stevens', 0.10227272727272728),\n",
       " ('University District', 0.05555555555555555),\n",
       " ('Wallingford', 0.30275229357798167)]"
      ]
     },
     "execution_count": 721,
     "metadata": {},
     "output_type": "execute_result"
    }
   ],
   "source": [
    "# Splitting our data by True / False (superhost)\n",
    "# Finding the percentage of superhosts to non-superhosts\n",
    "\n",
    "df_grouped_top_20 = df_grouped.query('neighbourhood in @top_20_cities')\n",
    "superhost_false = df_grouped_top_20.query('host_is_superhost == 0').reset_index()\n",
    "superhost_true = df_grouped_top_20.query('host_is_superhost == 1').reset_index()\n",
    "\n",
    "findings = []\n",
    "for i in range(0, 20):\n",
    "    a = (superhost_true.iloc[i,0] ,(superhost_true.iloc[i,3] / superhost_false.iloc[i,3]))\n",
    "    findings.append(a)\n",
    "findings"
   ]
  },
  {
   "cell_type": "code",
   "execution_count": 788,
   "id": "34d65670",
   "metadata": {},
   "outputs": [],
   "source": [
    "# Sorting through them to have them in the same order as the top_20_cities to create findings_sorted\n",
    "\n",
    "findings_sorted = []\n",
    "\n",
    "for city in top_20_cities:\n",
    "    for i,j in findings:\n",
    "        if city == i:\n",
    "            var = (i, j)\n",
    "            findings_sorted.append(var)\n",
    "            \n",
    "# creating 2 lists: one for the cities, and one for the percentage for that specific city\n",
    "\n",
    "cities = []\n",
    "percentage = []\n",
    "for i in range(len(findings_sorted)):\n",
    "    cities.append(findings_sorted[i][0])\n",
    "    percentage.append(findings_sorted[i][1].round(2))\n",
    "\n",
    "remaining = []\n",
    "for i in range(len(percentage)):\n",
    "    x = 1 - percentage[i]\n",
    "    remaining.append(x)"
   ]
  },
  {
   "cell_type": "code",
   "execution_count": 799,
   "id": "0212a61b",
   "metadata": {},
   "outputs": [
    {
     "data": {
      "image/png": "[encoded data removed]",
      "text/plain": [
       "<Figure size 1200x500 with 1 Axes>"
      ]
     },
     "metadata": {},
     "output_type": "display_data"
    }
   ],
   "source": [
    "plt.figure(figsize = (12,5))\n",
    "plt.bar(cities, percentage, color = 'orange')\n",
    "plt.xlabel('Cities', fontsize = 12)\n",
    "plt.ylabel('Percentage of Superhosts', fontsize = 12)\n",
    "plt.title('Top 20 Listings by City and Percentage of Superhosts', fontweight = 'bold')\n",
    "plt.xticks(rotation = 70);\n",
    "\n",
    "# As we can see in the below visual, there is no particular trend here that we can infer"
   ]
  },
  {
   "cell_type": "code",
   "execution_count": 804,
   "id": "5de58fdd",
   "metadata": {},
   "outputs": [
    {
     "data": {
      "text/plain": [
       "0.2627388535031847"
      ]
     },
     "execution_count": 804,
     "metadata": {},
     "output_type": "execute_result"
    }
   ],
   "source": [
    "# Top 20 cities percentage of Superhosts\n",
    "\n",
    "superhost_false = df_grouped_top_20.query('host_is_superhost == 0').reset_index()\n",
    "superhost_true = df_grouped_top_20.query('host_is_superhost == 1').reset_index()\n",
    "superhost_true['count'].sum() / superhost_false['count'].sum()"
   ]
  },
  {
   "cell_type": "code",
   "execution_count": 822,
   "id": "9dd64877",
   "metadata": {},
   "outputs": [
    {
     "data": {
      "text/plain": [
       "0.2906208718626156"
      ]
     },
     "execution_count": 822,
     "metadata": {},
     "output_type": "execute_result"
    }
   ],
   "source": [
    "# Remaining cities percentage of Superhosts\n",
    "\n",
    "df_listings_copy2['neighbourhood'].value_counts()[20:].index\n",
    "remainder_cities = df_listings_copy2['neighbourhood'].value_counts()[20:].index\n",
    "remainder = df_grouped.query('neighbourhood in @remainder_cities')\n",
    "remainder_false = remainder.query('host_is_superhost == 0').reset_index()\n",
    "remainder_true = remainder.query('host_is_superhost == 1').reset_index()\n",
    "remainder_true['count'].sum() / remainder_false['count'].sum()"
   ]
  },
  {
   "cell_type": "markdown",
   "id": "c54914c6",
   "metadata": {},
   "source": [
    "To answer our original questions:\n",
    "\n",
    "1) Superhosts are marginally higher rated than non-superhosts\n",
    "2) No clear pattern / trend emerged for superhosts in the most popular neighbourhoods\n",
    "3) Superhosts are not more 'concentrated' in the top 20 cities when compared to the rest"
   ]
  },
  {
   "cell_type": "markdown",
   "id": "1413c9d9",
   "metadata": {},
   "source": [
    "## How are property types distributed ? \n",
    "\n",
    "1) What are the different property types in Seattle's Airbnb scene?\n",
    "2) What are some key interesting features about the various types of propoerties?\n",
    "3) Are there any particular trends with property types?"
   ]
  },
  {
   "cell_type": "code",
   "execution_count": 860,
   "id": "1239ea93",
   "metadata": {},
   "outputs": [
    {
     "data": {
      "text/plain": [
       "property_type      1\n",
       "neighbourhood    416\n",
       "price              0\n",
       "amenities          0\n",
       "dtype: int64"
      ]
     },
     "execution_count": 860,
     "metadata": {},
     "output_type": "execute_result"
    }
   ],
   "source": [
    "df_listings[['property_type', 'neighbourhood', 'price', 'amenities']].isnull().sum()"
   ]
  },
  {
   "cell_type": "code",
   "execution_count": 861,
   "id": "24a0a407",
   "metadata": {},
   "outputs": [
    {
     "data": {
      "text/plain": [
       "property_type    0\n",
       "neighbourhood    0\n",
       "price            0\n",
       "amenities        0\n",
       "dtype: int64"
      ]
     },
     "execution_count": 861,
     "metadata": {},
     "output_type": "execute_result"
    }
   ],
   "source": [
    "# As we did before, we'll drop the NaN values in 'neighbourhood', as to not fill it with mean / median & skew data\n",
    "# We'll drop the 1 missing property_type as well\n",
    "\n",
    "df_listings_property_type = df_listings[['property_type', 'neighbourhood', 'price', 'amenities']].dropna()\n",
    "df_listings_property_type.isnull().sum()"
   ]
  },
  {
   "cell_type": "code",
   "execution_count": 862,
   "id": "bae2b234",
   "metadata": {},
   "outputs": [
    {
     "name": "stderr",
     "output_type": "stream",
     "text": [
      "/var/folders/f9/yr8f8sks06l5j44pmr6pvfr40000gn/T/ipykernel_3508/1461930631.py:2: FutureWarning: The default value of regex will change from True to False in a future version. In addition, single character regular expressions will *not* be treated as literal strings when regex=True.\n",
      "  df_listings_property_type['price'] = df_listings_property_type['price'] \\\n"
     ]
    }
   ],
   "source": [
    "# Converting 'price' to float\n",
    "df_listings_property_type['price'] = df_listings_property_type['price'] \\\n",
    "                                    .str.replace('$', '').str.replace(',', '').astype(float)"
   ]
  },
  {
   "cell_type": "code",
   "execution_count": 876,
   "id": "9254d28e",
   "metadata": {},
   "outputs": [
    {
     "data": {
      "text/html": [
       "<div>\n",
       "<style scoped>\n",
       "    .dataframe tbody tr th:only-of-type {\n",
       "        vertical-align: middle;\n",
       "    }\n",
       "\n",
       "    .dataframe tbody tr th {\n",
       "        vertical-align: top;\n",
       "    }\n",
       "\n",
       "    .dataframe thead th {\n",
       "        text-align: right;\n",
       "    }\n",
       "</style>\n",
       "<table border=\"1\" class=\"dataframe\">\n",
       "  <thead>\n",
       "    <tr style=\"text-align: right;\">\n",
       "      <th></th>\n",
       "      <th>property_type</th>\n",
       "      <th>max</th>\n",
       "      <th>min</th>\n",
       "      <th>mean</th>\n",
       "      <th>count</th>\n",
       "    </tr>\n",
       "  </thead>\n",
       "  <tbody>\n",
       "    <tr>\n",
       "      <th>0</th>\n",
       "      <td>House</td>\n",
       "      <td>1000.0</td>\n",
       "      <td>25.0</td>\n",
       "      <td>133.230720</td>\n",
       "      <td>1556</td>\n",
       "    </tr>\n",
       "    <tr>\n",
       "      <th>1</th>\n",
       "      <td>Apartment</td>\n",
       "      <td>999.0</td>\n",
       "      <td>20.0</td>\n",
       "      <td>124.585317</td>\n",
       "      <td>1512</td>\n",
       "    </tr>\n",
       "    <tr>\n",
       "      <th>2</th>\n",
       "      <td>Townhouse</td>\n",
       "      <td>498.0</td>\n",
       "      <td>33.0</td>\n",
       "      <td>134.254717</td>\n",
       "      <td>106</td>\n",
       "    </tr>\n",
       "    <tr>\n",
       "      <th>3</th>\n",
       "      <td>Condominium</td>\n",
       "      <td>700.0</td>\n",
       "      <td>50.0</td>\n",
       "      <td>155.698795</td>\n",
       "      <td>83</td>\n",
       "    </tr>\n",
       "    <tr>\n",
       "      <th>4</th>\n",
       "      <td>Bed &amp; Breakfast</td>\n",
       "      <td>299.0</td>\n",
       "      <td>39.0</td>\n",
       "      <td>116.314286</td>\n",
       "      <td>35</td>\n",
       "    </tr>\n",
       "    <tr>\n",
       "      <th>5</th>\n",
       "      <td>Loft</td>\n",
       "      <td>425.0</td>\n",
       "      <td>49.0</td>\n",
       "      <td>135.970588</td>\n",
       "      <td>34</td>\n",
       "    </tr>\n",
       "    <tr>\n",
       "      <th>6</th>\n",
       "      <td>Cabin</td>\n",
       "      <td>300.0</td>\n",
       "      <td>52.0</td>\n",
       "      <td>103.650000</td>\n",
       "      <td>20</td>\n",
       "    </tr>\n",
       "    <tr>\n",
       "      <th>7</th>\n",
       "      <td>Other</td>\n",
       "      <td>170.0</td>\n",
       "      <td>39.0</td>\n",
       "      <td>97.062500</td>\n",
       "      <td>16</td>\n",
       "    </tr>\n",
       "    <tr>\n",
       "      <th>8</th>\n",
       "      <td>Bungalow</td>\n",
       "      <td>349.0</td>\n",
       "      <td>65.0</td>\n",
       "      <td>119.000000</td>\n",
       "      <td>12</td>\n",
       "    </tr>\n",
       "    <tr>\n",
       "      <th>9</th>\n",
       "      <td>Camper/RV</td>\n",
       "      <td>265.0</td>\n",
       "      <td>45.0</td>\n",
       "      <td>99.555556</td>\n",
       "      <td>9</td>\n",
       "    </tr>\n",
       "    <tr>\n",
       "      <th>10</th>\n",
       "      <td>Boat</td>\n",
       "      <td>775.0</td>\n",
       "      <td>75.0</td>\n",
       "      <td>221.666667</td>\n",
       "      <td>6</td>\n",
       "    </tr>\n",
       "    <tr>\n",
       "      <th>11</th>\n",
       "      <td>Tent</td>\n",
       "      <td>65.0</td>\n",
       "      <td>25.0</td>\n",
       "      <td>54.000000</td>\n",
       "      <td>5</td>\n",
       "    </tr>\n",
       "    <tr>\n",
       "      <th>12</th>\n",
       "      <td>Chalet</td>\n",
       "      <td>135.0</td>\n",
       "      <td>62.0</td>\n",
       "      <td>98.500000</td>\n",
       "      <td>2</td>\n",
       "    </tr>\n",
       "    <tr>\n",
       "      <th>13</th>\n",
       "      <td>Dorm</td>\n",
       "      <td>41.0</td>\n",
       "      <td>38.0</td>\n",
       "      <td>39.500000</td>\n",
       "      <td>2</td>\n",
       "    </tr>\n",
       "    <tr>\n",
       "      <th>14</th>\n",
       "      <td>Treehouse</td>\n",
       "      <td>200.0</td>\n",
       "      <td>48.0</td>\n",
       "      <td>124.000000</td>\n",
       "      <td>2</td>\n",
       "    </tr>\n",
       "    <tr>\n",
       "      <th>15</th>\n",
       "      <td>Yurt</td>\n",
       "      <td>100.0</td>\n",
       "      <td>100.0</td>\n",
       "      <td>100.000000</td>\n",
       "      <td>1</td>\n",
       "    </tr>\n",
       "  </tbody>\n",
       "</table>\n",
       "</div>"
      ],
      "text/plain": [
       "      property_type     max    min        mean  count\n",
       "0             House  1000.0   25.0  133.230720   1556\n",
       "1         Apartment   999.0   20.0  124.585317   1512\n",
       "2         Townhouse   498.0   33.0  134.254717    106\n",
       "3       Condominium   700.0   50.0  155.698795     83\n",
       "4   Bed & Breakfast   299.0   39.0  116.314286     35\n",
       "5              Loft   425.0   49.0  135.970588     34\n",
       "6             Cabin   300.0   52.0  103.650000     20\n",
       "7             Other   170.0   39.0   97.062500     16\n",
       "8          Bungalow   349.0   65.0  119.000000     12\n",
       "9         Camper/RV   265.0   45.0   99.555556      9\n",
       "10             Boat   775.0   75.0  221.666667      6\n",
       "11             Tent    65.0   25.0   54.000000      5\n",
       "12           Chalet   135.0   62.0   98.500000      2\n",
       "13             Dorm    41.0   38.0   39.500000      2\n",
       "14        Treehouse   200.0   48.0  124.000000      2\n",
       "15             Yurt   100.0  100.0  100.000000      1"
      ]
     },
     "execution_count": 876,
     "metadata": {},
     "output_type": "execute_result"
    }
   ],
   "source": [
    "# Grouping by apartment types\n",
    "# Showing max / min / mean / count for 'price'\n",
    "# Sorting by highest count value\n",
    "\n",
    "df_listings_property_type.groupby(by = 'property_type')['price'].agg(['max','min','mean','count']) \\\n",
    "                .reset_index().sort_values('count', ascending = False).reset_index().drop('index', axis = 1)"
   ]
  },
  {
   "cell_type": "code",
   "execution_count": 948,
   "id": "821f3af7",
   "metadata": {},
   "outputs": [],
   "source": [
    "# Property_type 'Apartment' distribution in Seattle\n",
    "apartment_percentage = df_listings_property_type.query('property_type == \"Apartment\"')['neighbourhood'].value_counts() / 1556\n",
    "apartment = list(zip(apartment_percentage.index, list(apartment_percentage)))"
   ]
  },
  {
   "cell_type": "code",
   "execution_count": 990,
   "id": "2e9dc5a2",
   "metadata": {},
   "outputs": [],
   "source": [
    "# Property_type 'House' distribution in Seattle\n",
    "house_percentage = df_listings_property_type.query('property_type == \"House\"')['neighbourhood'].value_counts() / 1551\n",
    "house = list(zip(house_percentage.index, list(house_percentage)))"
   ]
  },
  {
   "cell_type": "code",
   "execution_count": 998,
   "id": "05f1d791",
   "metadata": {},
   "outputs": [
    {
     "data": {
      "text/plain": [
       "[('Capitol Hill', 0.16323907455012854),\n",
       " ('Belltown', 0.11632390745501285),\n",
       " ('First Hill', 0.062339331619537273),\n",
       " ('Queen Anne', 0.056555269922879174),\n",
       " ('Central Business District', 0.04820051413881748),\n",
       " ('Fremont', 0.04627249357326478),\n",
       " ('University District', 0.04627249357326478),\n",
       " ('Lower Queen Anne', 0.038560411311053984),\n",
       " ('Ballard', 0.03598971722365039),\n",
       " ('Minor', 0.03406169665809768)]"
      ]
     },
     "execution_count": 998,
     "metadata": {},
     "output_type": "execute_result"
    }
   ],
   "source": [
    "top_ten_apartments = apartment[0:10]\n",
    "top_ten_apartments"
   ]
  },
  {
   "cell_type": "code",
   "execution_count": 1017,
   "id": "aea1b1f8",
   "metadata": {},
   "outputs": [
    {
     "data": {
      "text/plain": [
       "[('Ballard', 0.08768536428110896),\n",
       " ('Minor', 0.07092198581560284),\n",
       " ('Wallingford', 0.06318504190844616),\n",
       " ('Capitol Hill', 0.052869116698903935),\n",
       " ('Queen Anne', 0.050934880722114766),\n",
       " ('North Beacon Hill', 0.038039974210186976),\n",
       " ('Fremont', 0.038039974210186976),\n",
       " ('Greenwood', 0.03481624758220503),\n",
       " ('Stevens', 0.032237266279819474),\n",
       " ('Ravenna', 0.030303030303030304)]"
      ]
     },
     "execution_count": 1017,
     "metadata": {},
     "output_type": "execute_result"
    }
   ],
   "source": [
    "top_ten_houses = house[0:10]\n",
    "top_ten_houses"
   ]
  },
  {
   "cell_type": "code",
   "execution_count": 1051,
   "id": "ee4f8b3a",
   "metadata": {},
   "outputs": [
    {
     "data": {
      "image/png": "[encoded data removed]",
      "text/plain": [
       "<Figure size 1200x600 with 2 Axes>"
      ]
     },
     "metadata": {},
     "output_type": "display_data"
    }
   ],
   "source": [
    "# Data for the first plot (houses)\n",
    "neighbourhood1 = [x[0] for x in top_ten_houses]\n",
    "percentage1 = [x[1]*100 for x in top_ten_houses]\n",
    "\n",
    "# Data for the second plot (apartments)\n",
    "neighbourhood2 = [x[0] for x in top_ten_apartments]\n",
    "percentage2 = [x[1]*100 for x in top_ten_apartments]\n",
    "\n",
    "# Create a 1x2 grid of subplots\n",
    "fig, axs = plt.subplots(1, 2, figsize=(12, 6))\n",
    "\n",
    "# Plot for houses\n",
    "bars1 = axs[0].barh(neighbourhood1[::-1], percentage1[::-1], color='aqua')\n",
    "axs[0].set_xlabel('Percentage')\n",
    "axs[0].set_ylabel('Neighborhood')\n",
    "axs[0].set_title('Top Ten Neighborhoods with Highest Percentages of Houses')\n",
    "\n",
    "for bar in bars1:\n",
    "    percentage = bar.get_width()\n",
    "    axs[0].annotate(f'{percentage:.2f}%', \n",
    "                    xy=(percentage, bar.get_y() + bar.get_height() / 2), \n",
    "                    xytext=(5, 0),\n",
    "                    textcoords='offset points', \n",
    "                    ha='center', \n",
    "                    va='center', \n",
    "                    fontsize=10)\n",
    "\n",
    "# Plot for apartments\n",
    "bars2 = axs[1].barh(neighbourhood2[::-1], percentage2[::-1], color='aqua')\n",
    "axs[1].set_xlabel('Percentage')\n",
    "axs[1].set_ylabel('Neighborhood')\n",
    "axs[1].set_title('Top Ten Neighborhoods with Highest Percentages of Apartments')\n",
    "\n",
    "for bar in bars2:\n",
    "    percentage = bar.get_width()\n",
    "    axs[1].annotate(f'{percentage:.2f}%', \n",
    "                    xy=(percentage, bar.get_y() + bar.get_height() / 2), \n",
    "                    xytext=(5, 0),\n",
    "                    textcoords='offset points', \n",
    "                    ha='center', \n",
    "                    va='center', \n",
    "                    fontsize=10)\n",
    "\n",
    "plt.tight_layout()\n",
    "plt.show()"
   ]
  },
  {
   "cell_type": "markdown",
   "id": "59409442",
   "metadata": {},
   "source": [
    "Circuling back to the original questions - \n",
    "\n",
    "Seattle'a Airbnb scene has a 16 types of listings to offer, albeit, apartments & houses are the dominating majority.\n",
    "\n",
    "One would expect that perhaps houses or condos would be on average drastically more expensive than apartments for example, however, the data shows that the average Airbnb price in Seattle is fairly consistent. Granted, the price range of each listing vary's between property type quite a bit.\n",
    "\n",
    "Last but not least, we zeroed in the top 10 neighborhoods & looked in more detail at their property type breakdown, specifically apartments & houses, and we noticed that the ratio changes from property type in one neighbourhood to another\n"
   ]
  }
 ],
 "metadata": {
  "kernelspec": {
   "display_name": "Python 3 (ipykernel)",
   "language": "python",
   "name": "python3"
  },
  "language_info": {
   "codemirror_mode": {
    "name": "ipython",
    "version": 3
   },
   "file_extension": ".py",
   "mimetype": "text/x-python",
   "name": "python",
   "nbconvert_exporter": "python",
   "pygments_lexer": "ipython3",
   "version": "3.9.16"
  }
 },
 "nbformat": 4,
 "nbformat_minor": 5
}
